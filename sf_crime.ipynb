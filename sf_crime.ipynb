{
 "cells": [
  {
   "cell_type": "markdown",
   "id": "87d9448d",
   "metadata": {},
   "source": [
    "# San Francisco Crime Rate\n",
    "https://www.kaggle.com/c/sf-crime/overview\n",
    "\n",
    "## 1. Problem definition\n",
    "From 1934 to 1963, San Francisco was infamous for housing some of the world's most notorious criminals on the inescapable island of Alcatraz.\n",
    "Today, the city is known more for its tech scene than its criminal past. But, with rising wealth inequality, housing shortages, and a proliferation of expensive digital toys riding BART to work, there is no scarcity of crime in the city by the bay.\n",
    "From Sunset to SOMA, and Marina to Excelsior, this competition's dataset provides nearly 12 years of crime reports from across all of San Francisco's neighborhoods.\n",
    "\n",
    "**Objective:** Given time and location, you must predict the category of crime that occurred.\n",
    "\n",
    "\n",
    "## 2. Data\n",
    "* **Category = Target** - category of the crime incident **(only in train.csv)**.\n",
    "* Descript - detailed description of the crime incident **(only in train.csv)**\n",
    "* Resolution - how the crime incident was resolved **(only in train.csv)**\n",
    "* DayOfWeek - the day of the week\n",
    "* Dates - timestamp of the crime incident\n",
    "* PdDistrict - name of the Police Department District\n",
    "* Address - the approximate street address of the crime incident \n",
    "* X - Longitude\n",
    "* Y - Latitude\n",
    "\n",
    "1. train.csv - The training set. Each row has the **ACTION (ground truth)**, **RESOURCE**, and **information** about the employee's role at the time of approval\n",
    "\n",
    "2. test.csv - The test set for which predictions should be made.  Each row asks whether an employee having the listed characteristics should have access to the **listed resource**.\n",
    "\n",
    "## 3. Evaluation\n",
    "Submissions are evaluated using the multi-class logarithmic loss. Each incident has been labeled with one true class. For each incident, you must submit a set of predicted probabilities .\n",
    "\n",
    "## 4. Submission\n",
    "You must submit a csv file with the incident id, all candidate class names, and a probability for each class. The order of the rows does not matter. The file must have a header and should look like the following:\n",
    "\n",
    "`Id,ARSON,ASSAULT,BAD CHECKS,BRIBERY,BURGLARY,DISORDERLY CONDUCT,DRIVING UNDER THE INFLUENCE,DRUG/NARCOTIC,DRUNKENNESS,EMBEZZLEMENT,EXTORTION,FAMILY OFFENSES,FORGERY/COUNTERFEITING,FRAUD,GAMBLING,KIDNAPPING,LARCENY/THEFT,LIQUOR LAWS,LOITERING,MISSING PERSON,NON-CRIMINAL,OTHER OFFENSES,PORNOGRAPHY/OBSCENE MAT,PROSTITUTION,RECOVERED VEHICLE,ROBBERY,RUNAWAY,SECONDARY CODES,SEX OFFENSES FORCIBLE,SEX OFFENSES NON FORCIBLE,STOLEN PROPERTY,SUICIDE,SUSPICIOUS OCC,TREA,TRESPASS,VANDALISM,VEHICLE THEFT,WARRANTS,WEAPON LAWS\n",
    "0,0.9,0.1,0,0,0,0,0,0,0,0,0,0,0,0,0,0,0,0,0,0,0,0,0,0,0,0,0,0,0,0,0,0,0,0,0,0,0,0,0\n",
    "1,0,0,0,0,0,0,0,0,0,0,0,0,0,0,0,0,0,0,0,0,0,0,0,0,0,0,0,0,0,0,0,0,0,0,0,0,0,0,1\n",
    "...`\n",
    "\n",
    "## 5. Feature importance\n",
    "Determine which features are important and repeat the process"
   ]
  },
  {
   "cell_type": "code",
   "execution_count": 1,
   "id": "c0504130",
   "metadata": {},
   "outputs": [],
   "source": [
    "# basic\n",
    "import pandas as pd\n",
    "import numpy as np\n",
    "import seaborn as sns\n",
    "import matplotlib.pyplot as plt\n",
    "import datetime\n",
    "\n",
    "%matplotlib inline\n",
    "\n",
    "# modelling\n",
    "from sklearn.model_selection import train_test_split, cross_val_score\n",
    "from sklearn.ensemble import RandomForestClassifier\n",
    "from sklearn import preprocessing\n",
    "from sklearn.compose import ColumnTransformer\n",
    "from sklearn.preprocessing import LabelEncoder\n",
    "from sklearn.preprocessing import OneHotEncoder\n",
    "from sklearn.neighbors import KNeighborsClassifier\n",
    "from sklearn.linear_model import LogisticRegression\n",
    "from sklearn.metrics import log_loss\n",
    "\n",
    "# xgboost\n",
    "from xgboost import XGBClassifier\n",
    "\n",
    "# lightgbm\n",
    "import lightgbm as lgb\n",
    "\n",
    "# metrics\"\n",
    "from sklearn.metrics import plot_roc_curve, roc_auc_score\n",
    "from sklearn.metrics import precision_score, recall_score, f1_score\n",
    "from sklearn.model_selection import RandomizedSearchCV, GridSearchCV"
   ]
  },
  {
   "cell_type": "markdown",
   "id": "9fec7551",
   "metadata": {},
   "source": [
    "# Import data"
   ]
  },
  {
   "cell_type": "code",
   "execution_count": 2,
   "id": "0836e756",
   "metadata": {},
   "outputs": [],
   "source": [
    "train_df = pd.read_csv('train.csv', parse_dates = ['Dates'])"
   ]
  },
  {
   "cell_type": "code",
   "execution_count": 3,
   "id": "8e2595a7",
   "metadata": {},
   "outputs": [
    {
     "data": {
      "text/html": [
       "<div>\n",
       "<style scoped>\n",
       "    .dataframe tbody tr th:only-of-type {\n",
       "        vertical-align: middle;\n",
       "    }\n",
       "\n",
       "    .dataframe tbody tr th {\n",
       "        vertical-align: top;\n",
       "    }\n",
       "\n",
       "    .dataframe thead th {\n",
       "        text-align: right;\n",
       "    }\n",
       "</style>\n",
       "<table border=\"1\" class=\"dataframe\">\n",
       "  <thead>\n",
       "    <tr style=\"text-align: right;\">\n",
       "      <th></th>\n",
       "      <th>Dates</th>\n",
       "      <th>Category</th>\n",
       "      <th>Descript</th>\n",
       "      <th>DayOfWeek</th>\n",
       "      <th>PdDistrict</th>\n",
       "      <th>Resolution</th>\n",
       "      <th>Address</th>\n",
       "      <th>X</th>\n",
       "      <th>Y</th>\n",
       "    </tr>\n",
       "  </thead>\n",
       "  <tbody>\n",
       "    <tr>\n",
       "      <th>0</th>\n",
       "      <td>2015-05-13 23:53:00</td>\n",
       "      <td>WARRANTS</td>\n",
       "      <td>WARRANT ARREST</td>\n",
       "      <td>Wednesday</td>\n",
       "      <td>NORTHERN</td>\n",
       "      <td>ARREST, BOOKED</td>\n",
       "      <td>OAK ST / LAGUNA ST</td>\n",
       "      <td>-122.425892</td>\n",
       "      <td>37.774599</td>\n",
       "    </tr>\n",
       "    <tr>\n",
       "      <th>1</th>\n",
       "      <td>2015-05-13 23:53:00</td>\n",
       "      <td>OTHER OFFENSES</td>\n",
       "      <td>TRAFFIC VIOLATION ARREST</td>\n",
       "      <td>Wednesday</td>\n",
       "      <td>NORTHERN</td>\n",
       "      <td>ARREST, BOOKED</td>\n",
       "      <td>OAK ST / LAGUNA ST</td>\n",
       "      <td>-122.425892</td>\n",
       "      <td>37.774599</td>\n",
       "    </tr>\n",
       "    <tr>\n",
       "      <th>2</th>\n",
       "      <td>2015-05-13 23:33:00</td>\n",
       "      <td>OTHER OFFENSES</td>\n",
       "      <td>TRAFFIC VIOLATION ARREST</td>\n",
       "      <td>Wednesday</td>\n",
       "      <td>NORTHERN</td>\n",
       "      <td>ARREST, BOOKED</td>\n",
       "      <td>VANNESS AV / GREENWICH ST</td>\n",
       "      <td>-122.424363</td>\n",
       "      <td>37.800414</td>\n",
       "    </tr>\n",
       "    <tr>\n",
       "      <th>3</th>\n",
       "      <td>2015-05-13 23:30:00</td>\n",
       "      <td>LARCENY/THEFT</td>\n",
       "      <td>GRAND THEFT FROM LOCKED AUTO</td>\n",
       "      <td>Wednesday</td>\n",
       "      <td>NORTHERN</td>\n",
       "      <td>NONE</td>\n",
       "      <td>1500 Block of LOMBARD ST</td>\n",
       "      <td>-122.426995</td>\n",
       "      <td>37.800873</td>\n",
       "    </tr>\n",
       "    <tr>\n",
       "      <th>4</th>\n",
       "      <td>2015-05-13 23:30:00</td>\n",
       "      <td>LARCENY/THEFT</td>\n",
       "      <td>GRAND THEFT FROM LOCKED AUTO</td>\n",
       "      <td>Wednesday</td>\n",
       "      <td>PARK</td>\n",
       "      <td>NONE</td>\n",
       "      <td>100 Block of BRODERICK ST</td>\n",
       "      <td>-122.438738</td>\n",
       "      <td>37.771541</td>\n",
       "    </tr>\n",
       "  </tbody>\n",
       "</table>\n",
       "</div>"
      ],
      "text/plain": [
       "                Dates        Category                      Descript  \\\n",
       "0 2015-05-13 23:53:00        WARRANTS                WARRANT ARREST   \n",
       "1 2015-05-13 23:53:00  OTHER OFFENSES      TRAFFIC VIOLATION ARREST   \n",
       "2 2015-05-13 23:33:00  OTHER OFFENSES      TRAFFIC VIOLATION ARREST   \n",
       "3 2015-05-13 23:30:00   LARCENY/THEFT  GRAND THEFT FROM LOCKED AUTO   \n",
       "4 2015-05-13 23:30:00   LARCENY/THEFT  GRAND THEFT FROM LOCKED AUTO   \n",
       "\n",
       "   DayOfWeek PdDistrict      Resolution                    Address  \\\n",
       "0  Wednesday   NORTHERN  ARREST, BOOKED         OAK ST / LAGUNA ST   \n",
       "1  Wednesday   NORTHERN  ARREST, BOOKED         OAK ST / LAGUNA ST   \n",
       "2  Wednesday   NORTHERN  ARREST, BOOKED  VANNESS AV / GREENWICH ST   \n",
       "3  Wednesday   NORTHERN            NONE   1500 Block of LOMBARD ST   \n",
       "4  Wednesday       PARK            NONE  100 Block of BRODERICK ST   \n",
       "\n",
       "            X          Y  \n",
       "0 -122.425892  37.774599  \n",
       "1 -122.425892  37.774599  \n",
       "2 -122.424363  37.800414  \n",
       "3 -122.426995  37.800873  \n",
       "4 -122.438738  37.771541  "
      ]
     },
     "execution_count": 3,
     "metadata": {},
     "output_type": "execute_result"
    }
   ],
   "source": [
    "train_df.head()"
   ]
  },
  {
   "cell_type": "code",
   "execution_count": 4,
   "id": "cdf4ca35",
   "metadata": {},
   "outputs": [
    {
     "data": {
      "text/plain": [
       "878049"
      ]
     },
     "execution_count": 4,
     "metadata": {},
     "output_type": "execute_result"
    }
   ],
   "source": [
    "len(train_df)"
   ]
  },
  {
   "cell_type": "code",
   "execution_count": 5,
   "id": "61866d7e",
   "metadata": {},
   "outputs": [
    {
     "data": {
      "text/plain": [
       "Dates         0\n",
       "Category      0\n",
       "Descript      0\n",
       "DayOfWeek     0\n",
       "PdDistrict    0\n",
       "Resolution    0\n",
       "Address       0\n",
       "X             0\n",
       "Y             0\n",
       "dtype: int64"
      ]
     },
     "execution_count": 5,
     "metadata": {},
     "output_type": "execute_result"
    }
   ],
   "source": [
    "train_df.isna().sum()"
   ]
  },
  {
   "cell_type": "code",
   "execution_count": 31,
   "id": "1c4a4b9d",
   "metadata": {
    "scrolled": false
   },
   "outputs": [
    {
     "data": {
      "text/plain": [
       "39"
      ]
     },
     "execution_count": 31,
     "metadata": {},
     "output_type": "execute_result"
    }
   ],
   "source": [
    "len(train_df['Category'].unique())"
   ]
  },
  {
   "cell_type": "markdown",
   "id": "6aee88e1",
   "metadata": {},
   "source": [
    "**Given that the test data does not include the Descript or the Resolution columns, we will initially remove them to focus on the more important**"
   ]
  },
  {
   "cell_type": "code",
   "execution_count": 110,
   "id": "bb7278a2",
   "metadata": {},
   "outputs": [],
   "source": [
    "df = train_df.copy()\n",
    "df.drop(columns=['Descript', 'Resolution'], axis=1, inplace=True)"
   ]
  },
  {
   "cell_type": "code",
   "execution_count": 112,
   "id": "bb6fa718",
   "metadata": {},
   "outputs": [
    {
     "data": {
      "text/plain": [
       "Dates         datetime64[ns]\n",
       "Category              object\n",
       "DayOfWeek             object\n",
       "PdDistrict            object\n",
       "Address               object\n",
       "X                    float64\n",
       "Y                    float64\n",
       "dtype: object"
      ]
     },
     "execution_count": 112,
     "metadata": {},
     "output_type": "execute_result"
    }
   ],
   "source": [
    "df.dtypes"
   ]
  },
  {
   "cell_type": "markdown",
   "id": "2dd5f0ab",
   "metadata": {},
   "source": [
    "# Augment data"
   ]
  },
  {
   "cell_type": "markdown",
   "id": "fca08a72",
   "metadata": {},
   "source": [
    "**Break date into day, month, year, hour**"
   ]
  },
  {
   "cell_type": "code",
   "execution_count": 113,
   "id": "ddbd0994",
   "metadata": {},
   "outputs": [],
   "source": [
    "df['Year'] = df['Dates'].dt.year\n",
    "df['Month'] = df['Dates'].dt.month\n",
    "df['Day'] = df['Dates'].dt.day\n",
    "df['Hour'] = df['Dates'].dt.hour\n",
    "df['Dayofweek'] = df['Dates'].dt.dayofweek"
   ]
  },
  {
   "cell_type": "code",
   "execution_count": 114,
   "id": "b907d8a1",
   "metadata": {},
   "outputs": [],
   "source": [
    "# subtract 2000 from the year to keep data in the same range\n",
    "df['Year'] = df['Year'] - 2000"
   ]
  },
  {
   "cell_type": "code",
   "execution_count": 115,
   "id": "b8b40125",
   "metadata": {},
   "outputs": [],
   "source": [
    "df.drop('Dates', axis=1, inplace=True)\n",
    "df.drop('DayOfWeek', axis=1, inplace=True)"
   ]
  },
  {
   "cell_type": "markdown",
   "id": "cb117380",
   "metadata": {},
   "source": [
    "### Exact address is irrelevant. Replace it by checking if it is a street or an avenue"
   ]
  },
  {
   "cell_type": "code",
   "execution_count": 117,
   "id": "3258304d",
   "metadata": {},
   "outputs": [],
   "source": [
    "def check_st_at(str_list):\n",
    "    for word in str_list.split():\n",
    "        if word == 'AV':\n",
    "            return 'AV'\n",
    "    return 'ST'"
   ]
  },
  {
   "cell_type": "code",
   "execution_count": 118,
   "id": "03064dbd",
   "metadata": {},
   "outputs": [],
   "source": [
    "df['Roadtype'] = df.apply(lambda row: check_st_at(row.Address), axis=1)"
   ]
  },
  {
   "cell_type": "code",
   "execution_count": 119,
   "id": "49a10577",
   "metadata": {},
   "outputs": [],
   "source": [
    "# we can now drop Address\n",
    "df.drop('Address', axis=1, inplace=True)"
   ]
  },
  {
   "cell_type": "markdown",
   "id": "ab3f0478",
   "metadata": {},
   "source": [
    "### Normalize coordinates"
   ]
  },
  {
   "cell_type": "code",
   "execution_count": 121,
   "id": "203d0305",
   "metadata": {},
   "outputs": [],
   "source": [
    "scaler_X = preprocessing.MinMaxScaler()\n",
    "scaler_Y = preprocessing.MinMaxScaler()\n",
    "\n",
    "X_def, Y_def = df['X'].values, df['Y'].values #returns a numpy array\n",
    "X_scaled = scaler_X.fit_transform(X_def.reshape([-1,1]))\n",
    "Y_scaled = scaler_Y.fit_transform(Y_def.reshape([-1,1]))\n",
    "\n",
    "df['X'] = X_scaled\n",
    "df['Y'] = Y_scaled"
   ]
  },
  {
   "cell_type": "code",
   "execution_count": 129,
   "id": "ad6ea085",
   "metadata": {},
   "outputs": [],
   "source": [
    "### Save pre-processed df to csv\n",
    "df.to_csv('preprocessed_data.csv', index=False)"
   ]
  },
  {
   "cell_type": "markdown",
   "id": "5c28552b",
   "metadata": {},
   "source": [
    "# EDA"
   ]
  },
  {
   "cell_type": "code",
   "execution_count": 153,
   "id": "2ba6e0fc",
   "metadata": {
    "scrolled": false
   },
   "outputs": [
    {
     "data": {
      "image/png": "[encoded data removed]",
      "text/plain": [
       "<Figure size 1152x720 with 1 Axes>"
      ]
     },
     "metadata": {
      "needs_background": "light"
     },
     "output_type": "display_data"
    }
   ],
   "source": [
    "df['Category'].value_counts().plot(kind='barh', figsize=(16,10));"
   ]
  },
  {
   "cell_type": "code",
   "execution_count": 159,
   "id": "971044b2",
   "metadata": {},
   "outputs": [
    {
     "data": {
      "image/png": "[encoded data removed]",
      "text/plain": [
       "<Figure size 1152x216 with 1 Axes>"
      ]
     },
     "metadata": {
      "needs_background": "light"
     },
     "output_type": "display_data"
    }
   ],
   "source": [
    "df['PdDistrict'].value_counts().plot(kind='barh', figsize=(16,3));"
   ]
  },
  {
   "cell_type": "code",
   "execution_count": 163,
   "id": "bddfed48",
   "metadata": {},
   "outputs": [
    {
     "data": {
      "text/plain": [
       "[Text(0.5, 0, 'X'), Text(0, 0.5, 'Y')]"
      ]
     },
     "execution_count": 163,
     "metadata": {},
     "output_type": "execute_result"
    },
    {
     "data": {
      "image/png": "[encoded data removed]",
      "text/plain": [
       "<Figure size 720x432 with 1 Axes>"
      ]
     },
     "metadata": {
      "needs_background": "light"
     },
     "output_type": "display_data"
    }
   ],
   "source": [
    "fig, ax = plt.subplots(figsize=(10,6))\n",
    "\n",
    "ax.scatter(df['X'], df['Y']);\n",
    "ax.set(xlabel='X',\n",
    "       ylabel='Y');"
   ]
  },
  {
   "cell_type": "code",
   "execution_count": 166,
   "id": "5e199ab7",
   "metadata": {},
   "outputs": [
    {
     "data": {
      "text/plain": [
       "Int64Index([660485, 660711, 660712, 661106, 666430, 667042, 669946, 671709,\n",
       "            673078, 673114, 673115, 673510, 674043, 675070, 675073, 675288,\n",
       "            675540, 677036, 677260, 677268, 677828, 678326, 678539, 678540,\n",
       "            679643, 682780, 683862, 684406, 685719, 685720, 686997, 687519,\n",
       "            687527, 688950, 692258, 712309, 719993, 727080, 754828, 756059,\n",
       "            759292, 759397, 767318, 767501, 767502, 772415, 772431, 773159,\n",
       "            783919, 788574, 788575, 789255, 798834, 823378, 833362, 833921,\n",
       "            839585, 842259, 842261, 842434, 842435, 842828, 844995, 845842,\n",
       "            852880, 857248, 871198],\n",
       "           dtype='int64')"
      ]
     },
     "execution_count": 166,
     "metadata": {},
     "output_type": "execute_result"
    }
   ],
   "source": [
    "# lets look for outliers\n",
    "to_drop = df[(df['X'] > 0.9)|(df['Y'] > 0.9)].index\n",
    "to_drop"
   ]
  },
  {
   "cell_type": "code",
   "execution_count": 167,
   "id": "9ef6375f",
   "metadata": {},
   "outputs": [],
   "source": [
    "# drop outliers since they are only 67 and rescale\n",
    "df.drop(to_drop, inplace=True)"
   ]
  },
  {
   "cell_type": "code",
   "execution_count": 168,
   "id": "20823ba3",
   "metadata": {},
   "outputs": [],
   "source": [
    "scaler_X = preprocessing.MinMaxScaler()\n",
    "scaler_Y = preprocessing.MinMaxScaler()\n",
    "\n",
    "X_def, Y_def = df['X'].values, df['Y'].values #returns a numpy array\n",
    "X_scaled = scaler_X.fit_transform(X_def.reshape([-1,1]))\n",
    "Y_scaled = scaler_Y.fit_transform(Y_def.reshape([-1,1]))\n",
    "\n",
    "df['X'] = X_scaled\n",
    "df['Y'] = Y_scaled"
   ]
  },
  {
   "cell_type": "code",
   "execution_count": 172,
   "id": "633fc2e4",
   "metadata": {},
   "outputs": [
    {
     "data": {
      "image/png": "[encoded data removed]",
      "text/plain": [
       "<Figure size 864x432 with 1 Axes>"
      ]
     },
     "metadata": {
      "needs_background": "light"
     },
     "output_type": "display_data"
    }
   ],
   "source": [
    "fig, ax = plt.subplots(figsize=(12,6))\n",
    "\n",
    "ax.scatter(df['X'], df['Y']);\n",
    "ax.set(xlabel='X',\n",
    "       ylabel='Y',\n",
    "       title='Map of reports');"
   ]
  },
  {
   "cell_type": "code",
   "execution_count": 173,
   "id": "5a97f9ff",
   "metadata": {},
   "outputs": [],
   "source": [
    "### Save pre-processed df to csv\n",
    "df.to_csv('preprocessed_data_dropped.csv', index=False)"
   ]
  },
  {
   "cell_type": "markdown",
   "id": "9c5b17f4",
   "metadata": {},
   "source": [
    "## Distribution of reports over the year, months, days, hours"
   ]
  },
  {
   "cell_type": "code",
   "execution_count": 195,
   "id": "a400ac5c",
   "metadata": {},
   "outputs": [
    {
     "data": {
      "image/png": "[encoded data removed]",
      "text/plain": [
       "<Figure size 720x1080 with 5 Axes>"
      ]
     },
     "metadata": {
      "needs_background": "light"
     },
     "output_type": "display_data"
    }
   ],
   "source": [
    "fig, (ax0, ax1, ax2, ax3, ax4) = plt.subplots(nrows=5, figsize=(10,15))\n",
    "\n",
    "df['Year'].value_counts(sort=False).plot(kind='bar', ax=ax0)\n",
    "df['Month'].value_counts(sort=False).plot(kind='bar', ax=ax1)\n",
    "df['Day'].value_counts(sort=False).plot(kind='bar', ax=ax2)\n",
    "df['Dayofweek'].value_counts(sort=False).plot(kind='bar', ax=ax3)\n",
    "df['Hour'].value_counts(sort=False).plot(kind='bar', ax=ax4)\n",
    "\n",
    "ax0.set(title='Reports each Year')\n",
    "ax1.set(title='Reports each Month')\n",
    "ax2.set(title='Reports each Day')\n",
    "ax3.set(title='Reports each Dayofweek')\n",
    "ax4.set(title='Reports each Hours')\n",
    "\n",
    "plt.tight_layout()"
   ]
  },
  {
   "cell_type": "markdown",
   "id": "76addf40",
   "metadata": {},
   "source": [
    "## Distribution of PDs"
   ]
  },
  {
   "cell_type": "code",
   "execution_count": 186,
   "id": "37901224",
   "metadata": {},
   "outputs": [
    {
     "data": {
      "image/png": "[encoded data removed]",
      "text/plain": [
       "<Figure size 720x432 with 1 Axes>"
      ]
     },
     "metadata": {
      "needs_background": "light"
     },
     "output_type": "display_data"
    }
   ],
   "source": [
    "df['PdDistrict'].value_counts().plot(kind='barh', figsize=(10,6));"
   ]
  },
  {
   "cell_type": "markdown",
   "id": "46df1ce0",
   "metadata": {},
   "source": [
    "## Distribution over Roadtype"
   ]
  },
  {
   "cell_type": "code",
   "execution_count": 191,
   "id": "24a13584",
   "metadata": {},
   "outputs": [
    {
     "data": {
      "image/png": "[encoded data removed]",
      "text/plain": [
       "<Figure size 720x432 with 1 Axes>"
      ]
     },
     "metadata": {
      "needs_background": "light"
     },
     "output_type": "display_data"
    }
   ],
   "source": [
    "df['Roadtype'].value_counts().plot(kind='bar', figsize=(10,6));\n",
    "plt.xticks(rotation='horizontal');"
   ]
  },
  {
   "cell_type": "markdown",
   "id": "774a709b",
   "metadata": {},
   "source": [
    "## Check the correlation between Minutes and Felony\n",
    "For each minute, extract the top 3 most likely charges"
   ]
  },
  {
   "cell_type": "code",
   "execution_count": 94,
   "id": "239484b7",
   "metadata": {
    "scrolled": true
   },
   "outputs": [],
   "source": [
    "sum_each_minute = df.groupby('Minute')['X'].count()"
   ]
  },
  {
   "cell_type": "code",
   "execution_count": 95,
   "id": "a40c1186",
   "metadata": {},
   "outputs": [],
   "source": [
    "s = df.groupby([\"Minute\", 'Category'], as_index=False)['X'].count()"
   ]
  },
  {
   "cell_type": "code",
   "execution_count": 96,
   "id": "99ad2ddc",
   "metadata": {},
   "outputs": [],
   "source": [
    "s = s.groupby(['Minute']).apply(lambda x: x.sort_values(['X'],ascending = False)).reset_index(drop = True)"
   ]
  },
  {
   "cell_type": "code",
   "execution_count": 105,
   "id": "e80fa448",
   "metadata": {},
   "outputs": [],
   "source": [
    "top3_each_minute = s.groupby(['Minute']).head(3).rename(columns={'X':'count'}).set_index('Minute')"
   ]
  },
  {
   "cell_type": "code",
   "execution_count": 106,
   "id": "f9dba726",
   "metadata": {},
   "outputs": [
    {
     "data": {
      "text/html": [
       "<div>\n",
       "<style scoped>\n",
       "    .dataframe tbody tr th:only-of-type {\n",
       "        vertical-align: middle;\n",
       "    }\n",
       "\n",
       "    .dataframe tbody tr th {\n",
       "        vertical-align: top;\n",
       "    }\n",
       "\n",
       "    .dataframe thead th {\n",
       "        text-align: right;\n",
       "    }\n",
       "</style>\n",
       "<table border=\"1\" class=\"dataframe\">\n",
       "  <thead>\n",
       "    <tr style=\"text-align: right;\">\n",
       "      <th></th>\n",
       "      <th>Category</th>\n",
       "      <th>count</th>\n",
       "    </tr>\n",
       "    <tr>\n",
       "      <th>Minute</th>\n",
       "      <th></th>\n",
       "      <th></th>\n",
       "    </tr>\n",
       "  </thead>\n",
       "  <tbody>\n",
       "    <tr>\n",
       "      <th>0</th>\n",
       "      <td>LARCENY/THEFT</td>\n",
       "      <td>76622</td>\n",
       "    </tr>\n",
       "    <tr>\n",
       "      <th>0</th>\n",
       "      <td>NON-CRIMINAL</td>\n",
       "      <td>31432</td>\n",
       "    </tr>\n",
       "    <tr>\n",
       "      <th>0</th>\n",
       "      <td>VEHICLE THEFT</td>\n",
       "      <td>30380</td>\n",
       "    </tr>\n",
       "    <tr>\n",
       "      <th>1</th>\n",
       "      <td>LARCENY/THEFT</td>\n",
       "      <td>4726</td>\n",
       "    </tr>\n",
       "    <tr>\n",
       "      <th>1</th>\n",
       "      <td>OTHER OFFENSES</td>\n",
       "      <td>3681</td>\n",
       "    </tr>\n",
       "    <tr>\n",
       "      <th>...</th>\n",
       "      <td>...</td>\n",
       "      <td>...</td>\n",
       "    </tr>\n",
       "    <tr>\n",
       "      <th>58</th>\n",
       "      <td>DRUG/NARCOTIC</td>\n",
       "      <td>664</td>\n",
       "    </tr>\n",
       "    <tr>\n",
       "      <th>58</th>\n",
       "      <td>NON-CRIMINAL</td>\n",
       "      <td>495</td>\n",
       "    </tr>\n",
       "    <tr>\n",
       "      <th>59</th>\n",
       "      <td>OTHER OFFENSES</td>\n",
       "      <td>900</td>\n",
       "    </tr>\n",
       "    <tr>\n",
       "      <th>59</th>\n",
       "      <td>DRUG/NARCOTIC</td>\n",
       "      <td>521</td>\n",
       "    </tr>\n",
       "    <tr>\n",
       "      <th>59</th>\n",
       "      <td>LARCENY/THEFT</td>\n",
       "      <td>521</td>\n",
       "    </tr>\n",
       "  </tbody>\n",
       "</table>\n",
       "<p>180 rows × 2 columns</p>\n",
       "</div>"
      ],
      "text/plain": [
       "              Category  count\n",
       "Minute                       \n",
       "0        LARCENY/THEFT  76622\n",
       "0         NON-CRIMINAL  31432\n",
       "0        VEHICLE THEFT  30380\n",
       "1        LARCENY/THEFT   4726\n",
       "1       OTHER OFFENSES   3681\n",
       "...                ...    ...\n",
       "58       DRUG/NARCOTIC    664\n",
       "58        NON-CRIMINAL    495\n",
       "59      OTHER OFFENSES    900\n",
       "59       DRUG/NARCOTIC    521\n",
       "59       LARCENY/THEFT    521\n",
       "\n",
       "[180 rows x 2 columns]"
      ]
     },
     "execution_count": 106,
     "metadata": {},
     "output_type": "execute_result"
    }
   ],
   "source": [
    "top3_each_minute"
   ]
  },
  {
   "cell_type": "code",
   "execution_count": 113,
   "id": "ecf6a0e3",
   "metadata": {
    "scrolled": true
   },
   "outputs": [
    {
     "data": {
      "text/plain": [
       "Minute\n",
       "0     268930\n",
       "1      25859\n",
       "2       4403\n",
       "3       4624\n",
       "4       4701\n",
       "5      15764\n",
       "6       4654\n",
       "7       4658\n",
       "8       5026\n",
       "9       4422\n",
       "10     22761\n",
       "11      4550\n",
       "12      5019\n",
       "13      4629\n",
       "14      4829\n",
       "15     37900\n",
       "16      4408\n",
       "17      4787\n",
       "18      5242\n",
       "19      4529\n",
       "20     26025\n",
       "21      4284\n",
       "22      4996\n",
       "23      4903\n",
       "24      4764\n",
       "25     16176\n",
       "26      4401\n",
       "27      4726\n",
       "28      4875\n",
       "29      4392\n",
       "30    125165\n",
       "31      4120\n",
       "32      4493\n",
       "33      4737\n",
       "34      4516\n",
       "35     15549\n",
       "36      4463\n",
       "37      4807\n",
       "38      4946\n",
       "39      4522\n",
       "40     24668\n",
       "41      4383\n",
       "42      4811\n",
       "43      4599\n",
       "44      4704\n",
       "45     40227\n",
       "46      4377\n",
       "47      4620\n",
       "48      5059\n",
       "49      4341\n",
       "50     25495\n",
       "51      4308\n",
       "52      4570\n",
       "53      4748\n",
       "54      4618\n",
       "55     15406\n",
       "56      4437\n",
       "57      4637\n",
       "58      4850\n",
       "59      4569\n",
       "Name: X, dtype: int64"
      ]
     },
     "execution_count": 113,
     "metadata": {},
     "output_type": "execute_result"
    }
   ],
   "source": [
    "sum_each_minute"
   ]
  },
  {
   "cell_type": "markdown",
   "id": "8564c72e",
   "metadata": {},
   "source": [
    "**Based on evidence, the minutes in highly probable to be either 0, 15, 30, or 45. As such, we will discard minute**"
   ]
  },
  {
   "cell_type": "markdown",
   "id": "e899af9b",
   "metadata": {},
   "source": [
    "# Create a data preprocessing function"
   ]
  },
  {
   "cell_type": "code",
   "execution_count": 4,
   "id": "7c463566",
   "metadata": {},
   "outputs": [],
   "source": [
    "def check_st_at(str_list):\n",
    "    for word in str_list.split():\n",
    "        if word == 'AV':\n",
    "            return 'AV'\n",
    "    return 'ST'"
   ]
  },
  {
   "cell_type": "code",
   "execution_count": 5,
   "id": "f43b2142",
   "metadata": {},
   "outputs": [],
   "source": [
    "def preprocess_df(df_in, is_train = True):\n",
    "    \n",
    "    df = df_in.copy()\n",
    "    \n",
    "    if is_train: \n",
    "        df.drop(columns=['Descript', 'Resolution'], axis=1, inplace=True)\n",
    "    df['Year'] = df['Dates'].dt.year\n",
    "    df['Month'] = df['Dates'].dt.month\n",
    "    df['Day'] = df['Dates'].dt.day\n",
    "    df['Hour'] = df['Dates'].dt.hour\n",
    "    df['Minute'] = df['Dates'].dt.minute\n",
    "    df['Dayofweek'] = df['Dates'].dt.dayofweek\n",
    "    \n",
    "    df.drop('Dates', axis=1, inplace=True)\n",
    "    df.drop('DayOfWeek', axis=1, inplace=True)\n",
    "    \n",
    "    # subtract 2000 from the year to keep data in the same range\n",
    "    df['Year'] = df['Year'] - 2000\n",
    "    \n",
    "    df['Roadtype'] = df.apply(lambda row: check_st_at(row.Address), axis=1)\n",
    "    df['Block'] = df['Address'].str.contains('block', case=False).apply(lambda x: 1 if x == True else 0)\n",
    "    # we can now drop Address\n",
    "    df.drop('Address', axis=1, inplace=True)\n",
    "    \n",
    "    # Drop outliers\n",
    "    to_drop = df[(df['X'] == -120.5)|(df['Y'] == 90)].index\n",
    "    if is_train:\n",
    "        df.drop(to_drop, inplace=True)\n",
    "    \n",
    "    scaler_X = preprocessing.MinMaxScaler()\n",
    "    scaler_Y = preprocessing.MinMaxScaler()\n",
    "    scaler_XY = preprocessing.MinMaxScaler()\n",
    "    scaler_sum = preprocessing.MinMaxScaler()\n",
    "    scaler_diff = preprocessing.MinMaxScaler()\n",
    "    scaler_prod = preprocessing.MinMaxScaler()\n",
    "\n",
    "    X_def, Y_def = df['X'].values, df['Y'].values #returns a numpy array\n",
    "    XY_sq = X_def**2 + Y_def**2\n",
    "    XYsum = X_def + Y_def\n",
    "    XYdiff = X_def - Y_def\n",
    "    XYprod = np.multiply(X_def, Y_def)\n",
    "    \n",
    "    X_scaled = scaler_X.fit_transform(X_def.reshape([-1,1]))\n",
    "    Y_scaled = scaler_Y.fit_transform(Y_def.reshape([-1,1]))\n",
    "    XY_sq_scaled = scaler_XY.fit_transform(XY_sq.reshape([-1,1]))\n",
    "    XY_sum_scaled = scaler_sum.fit_transform(XYsum.reshape([-1,1]))\n",
    "    XY_diff_scaled = scaler_diff.fit_transform(XYdiff.reshape([-1,1]))\n",
    "    XY_prod_scaled = scaler_prod.fit_transform(XYprod.reshape([-1,1]))\n",
    "\n",
    "    df['X'] = X_scaled\n",
    "    df['Y'] = Y_scaled\n",
    "    df['XYsq'] = XY_sq_scaled\n",
    "    df['XYsum'] = XY_sum_scaled\n",
    "    df['XYdiff'] = XY_diff_scaled\n",
    "    df['XYprod'] = XY_prod_scaled\n",
    "    \n",
    "    #encode categorical columns\n",
    "    if is_train:\n",
    "        df['Category'] = df['Category'].astype('category')\n",
    "    df['PdDistrict'] = df['PdDistrict'].astype('category')b\n",
    "    df['Roadtype'] = df['Roadtype'].astype('category')\n",
    "    \n",
    "    df_cat = df.copy()\n",
    "    \n",
    "    if is_train:\n",
    "        df_cat['Category'] = df_cat['Category'].cat.codes\n",
    "    df_cat['PdDistrict'] = df_cat['PdDistrict'].cat.codes\n",
    "    df_cat['Roadtype'] = df_cat['Roadtype'].cat.codes\n",
    "    \n",
    "    return df_cat, df"
   ]
  },
  {
   "cell_type": "markdown",
   "id": "44617c96",
   "metadata": {},
   "source": [
    "# Model"
   ]
  },
  {
   "cell_type": "markdown",
   "id": "ba18e1de",
   "metadata": {},
   "source": [
    "## Load and prepare data"
   ]
  },
  {
   "cell_type": "code",
   "execution_count": 6,
   "id": "a51ad0c9",
   "metadata": {},
   "outputs": [],
   "source": [
    "train_df = pd.read_csv('train.csv', parse_dates = ['Dates'], low_memory=False)\n",
    "\n",
    "df_cat2, df2 = preprocess_df(train_df)"
   ]
  },
  {
   "cell_type": "code",
   "execution_count": 7,
   "id": "f4307450",
   "metadata": {},
   "outputs": [],
   "source": [
    "X = df_cat2.drop(columns= ['Category'])\n",
    "y = df_cat2['Category']"
   ]
  },
  {
   "cell_type": "markdown",
   "id": "9e92fea9",
   "metadata": {},
   "source": [
    "## KNN"
   ]
  },
  {
   "cell_type": "code",
   "execution_count": 32,
   "id": "a442dd8e",
   "metadata": {},
   "outputs": [],
   "source": [
    "X_train, X_test, y_train, y_test = train_test_split(X, y, test_size = 0.3)"
   ]
  },
  {
   "cell_type": "code",
   "execution_count": 42,
   "id": "f95cd44a",
   "metadata": {},
   "outputs": [],
   "source": [
    "knn = KNeighborsClassifier(n_neighbors=100)"
   ]
  },
  {
   "cell_type": "code",
   "execution_count": 43,
   "id": "4b6a7dbb",
   "metadata": {},
   "outputs": [
    {
     "name": "stdout",
     "output_type": "stream",
     "text": [
      "Wall time: 34.8 s\n"
     ]
    },
    {
     "data": {
      "text/plain": [
       "KNeighborsClassifier(n_neighbors=100)"
      ]
     },
     "execution_count": 43,
     "metadata": {},
     "output_type": "execute_result"
    }
   ],
   "source": [
    "%%time\n",
    "knn.fit(X_train, y_train)"
   ]
  },
  {
   "cell_type": "code",
   "execution_count": 44,
   "id": "ee66dd8a",
   "metadata": {},
   "outputs": [
    {
     "name": "stdout",
     "output_type": "stream",
     "text": [
      "2.356131881691766\n",
      "3.933750913077195\n"
     ]
    }
   ],
   "source": [
    "y_probs_train = knn.predict_proba(X_train)\n",
    "y_probs_val = knn.predict_proba(X_test)\n",
    "\n",
    "print(log_loss(y_train, y_probs_train))\n",
    "print(log_loss(y_test, y_probs_val))"
   ]
  },
  {
   "cell_type": "markdown",
   "id": "4f264a4e",
   "metadata": {},
   "source": [
    "### KNN - Grid Search"
   ]
  },
  {
   "cell_type": "code",
   "execution_count": 168,
   "id": "97de5d6c",
   "metadata": {},
   "outputs": [],
   "source": [
    "grid = {'n_neighbors':[5, 10, 15, 30]}"
   ]
  },
  {
   "cell_type": "code",
   "execution_count": null,
   "id": "eda1ec74",
   "metadata": {},
   "outputs": [],
   "source": [
    "clf = GridSearchCV(estimator=knn, \n",
    "                       scoring='neg_log_loss',\n",
    "                       param_grid=grid, \n",
    "                       cv = 3,\n",
    "                       verbose=3)\n",
    "search = clf.fit(X, y)"
   ]
  },
  {
   "cell_type": "markdown",
   "id": "a7850ac2",
   "metadata": {},
   "source": [
    "\n",
    "[CV 1/3] END ...................n_neighbors=5;, score=-22.554 total time= 1.2min\n",
    "\n",
    "[CV 2/3] END ...................n_neighbors=5;, score=-24.827 total time= 1.3min"
   ]
  },
  {
   "cell_type": "markdown",
   "id": "2a44221c",
   "metadata": {},
   "source": [
    "## Logistic Regression"
   ]
  },
  {
   "cell_type": "code",
   "execution_count": 9,
   "id": "54f14fa9",
   "metadata": {},
   "outputs": [],
   "source": [
    "X_train, X_test, y_train, y_test = train_test_split(X, y, test_size = 0.3)"
   ]
  },
  {
   "cell_type": "code",
   "execution_count": 93,
   "id": "7f56a905",
   "metadata": {},
   "outputs": [],
   "source": [
    "logreg = LogisticRegression(n_jobs=-1, C=1000,\n",
    "                           solver='saga', penalty='elasticnet',\n",
    "                           l1_ratio=0.5)"
   ]
  },
  {
   "cell_type": "code",
   "execution_count": 95,
   "id": "001ab34b",
   "metadata": {},
   "outputs": [
    {
     "name": "stderr",
     "output_type": "stream",
     "text": [
      "D:\\MachineLearning\\MyProjects\\SanFranciscoCrimes\\env\\lib\\site-packages\\sklearn\\linear_model\\_sag.py:328: ConvergenceWarning: The max_iter was reached which means the coef_ did not converge\n",
      "  warnings.warn(\"The max_iter was reached which means \"\n"
     ]
    },
    {
     "data": {
      "text/plain": [
       "LogisticRegression(C=1000, l1_ratio=0.5, n_jobs=-1, penalty='elasticnet',\n",
       "                   solver='saga')"
      ]
     },
     "execution_count": 95,
     "metadata": {},
     "output_type": "execute_result"
    }
   ],
   "source": [
    "logreg.fit(X_train, y_train)"
   ]
  },
  {
   "cell_type": "code",
   "execution_count": 96,
   "id": "ed14b7e2",
   "metadata": {},
   "outputs": [
    {
     "name": "stdout",
     "output_type": "stream",
     "text": [
      "2.5391372261544785\n",
      "2.537733936411284\n"
     ]
    }
   ],
   "source": [
    "y_probs_train = logreg.predict_proba(X_train)\n",
    "y_probs_val = logreg.predict_proba(X_test)\n",
    "\n",
    "print(log_loss(y_train, y_probs_train))\n",
    "print(log_loss(y_test, y_probs_val))"
   ]
  },
  {
   "cell_type": "markdown",
   "id": "4b221e0e",
   "metadata": {},
   "source": [
    "### Logistic Regression - Random Search"
   ]
  },
  {
   "cell_type": "code",
   "execution_count": 37,
   "id": "fc1e5181",
   "metadata": {},
   "outputs": [],
   "source": [
    "from scipy.stats import uniform"
   ]
  },
  {
   "cell_type": "code",
   "execution_count": 87,
   "id": "eb3fe53a",
   "metadata": {},
   "outputs": [],
   "source": [
    "logisticreg = LogisticRegression(n_jobs=-1)"
   ]
  },
  {
   "cell_type": "code",
   "execution_count": 88,
   "id": "32ade1c3",
   "metadata": {},
   "outputs": [],
   "source": [
    "distributions = {'C': [10, 100, 1000, 1500]}"
   ]
  },
  {
   "cell_type": "code",
   "execution_count": null,
   "id": "bef3a2c0",
   "metadata": {
    "scrolled": false
   },
   "outputs": [],
   "source": [
    "clf = RandomizedSearchCV(estimator=logisticreg, \n",
    "                       scoring='neg_log_loss',\n",
    "                       param_distributions=distributions, \n",
    "                       cv = 3, n_iter=10,\n",
    "                       verbose=3)\n",
    "search = clf.fit(X, y)"
   ]
  },
  {
   "cell_type": "markdown",
   "id": "266d1749",
   "metadata": {},
   "source": [
    "**stopped early**\n",
    "\n",
    "[CV 1/3] END ...............C=3.02376474657701;, score=-2.726 total time= 2.1min\n",
    "\n",
    "[CV 2/3] END ...............C=3.02376474657701;, score=-2.573 total time= 1.9min\n",
    "\n",
    "[CV 3/3] END ...............C=3.02376474657701;, score=-2.744 total time= 2.2min\n",
    "\n",
    "[CV 1/3] END .............C=2.0708633834696384;, score=-2.724 total time= 2.1min\n",
    "\n",
    "[CV 2/3] END .............C=2.0708633834696384;, score=-2.574 total time= 2.2min\n",
    "\n",
    "[CV 3/3] END .............C=2.0708633834696384;, score=-2.745 total time= 2.1min\n",
    "\n",
    "[CV 1/3] END ..............C=3.327777222432624;, score=-2.725 total time= 2.2min\n",
    "\n",
    "[CV 2/3] END ..............C=3.327777222432624;, score=-2.573 total time= 2.0min\n",
    "\n",
    "[CV 3/3] END ..............C=3.327777222432624;, score=-2.744 total time= 1.9min\n",
    "\n",
    "[CV 1/3] END ..............C=0.921754008177837;, score=-2.721 total time= 1.9min\n",
    "\n",
    "[CV 2/3] END ..............C=0.921754008177837;, score=-2.573 total time= 1.9min\n",
    "\n",
    "[CV 3/3] END ..............C=0.921754008177837;, score=-2.746 total time= 2.0min\n"
   ]
  },
  {
   "cell_type": "markdown",
   "id": "b0a639b5",
   "metadata": {},
   "source": [
    "### Logistic Regression with fewer features"
   ]
  },
  {
   "cell_type": "code",
   "execution_count": 122,
   "id": "9d95d5aa",
   "metadata": {},
   "outputs": [],
   "source": [
    "X_s, y_s = X.drop(columns=['PdDistrict', 'Roadtype', 'Block', 'Minute']), y"
   ]
  },
  {
   "cell_type": "code",
   "execution_count": 123,
   "id": "b90c5eb4",
   "metadata": {},
   "outputs": [],
   "source": [
    "X_train_s, X_test_s, y_train_s, y_test_s = train_test_split(X_s, y_s, test_size = 0.3)"
   ]
  },
  {
   "cell_type": "code",
   "execution_count": 124,
   "id": "2788cc18",
   "metadata": {},
   "outputs": [],
   "source": [
    "logreg_s = LogisticRegression(n_jobs=-1, C=1000,\n",
    "                           solver='saga', penalty='elasticnet',\n",
    "                           l1_ratio=0.5)"
   ]
  },
  {
   "cell_type": "code",
   "execution_count": 125,
   "id": "96e9e52b",
   "metadata": {},
   "outputs": [
    {
     "name": "stderr",
     "output_type": "stream",
     "text": [
      "D:\\MachineLearning\\MyProjects\\SanFranciscoCrimes\\env\\lib\\site-packages\\sklearn\\linear_model\\_sag.py:328: ConvergenceWarning: The max_iter was reached which means the coef_ did not converge\n",
      "  warnings.warn(\"The max_iter was reached which means \"\n"
     ]
    },
    {
     "data": {
      "text/plain": [
       "LogisticRegression(C=1000, l1_ratio=0.5, n_jobs=-1, penalty='elasticnet',\n",
       "                   solver='saga')"
      ]
     },
     "execution_count": 125,
     "metadata": {},
     "output_type": "execute_result"
    }
   ],
   "source": [
    "logreg_s.fit(X_train_s, y_train_s)"
   ]
  },
  {
   "cell_type": "code",
   "execution_count": 126,
   "id": "2fbaa9af",
   "metadata": {},
   "outputs": [],
   "source": [
    "y_probs_train = logreg_s.predict_proba(X_train_s)\n",
    "y_probs_test = logreg_s.predict_proba(X_test_s)"
   ]
  },
  {
   "cell_type": "code",
   "execution_count": 127,
   "id": "2796580a",
   "metadata": {},
   "outputs": [
    {
     "name": "stdout",
     "output_type": "stream",
     "text": [
      "2.632230655682441\n",
      "2.6292167408274456\n"
     ]
    }
   ],
   "source": [
    "print(log_loss(y_train_s, y_probs_train))\n",
    "print(log_loss(y_test_s, y_probs_test))"
   ]
  },
  {
   "cell_type": "markdown",
   "id": "ef7d4a12",
   "metadata": {},
   "source": [
    "## Random Forest"
   ]
  },
  {
   "cell_type": "code",
   "execution_count": 8,
   "id": "47e95cf5",
   "metadata": {},
   "outputs": [],
   "source": [
    "X_train, X_test, y_train, y_test = train_test_split(X, y, test_size = 0.3)"
   ]
  },
  {
   "cell_type": "code",
   "execution_count": 9,
   "id": "bc90bafa",
   "metadata": {},
   "outputs": [],
   "source": [
    "rfc = RandomForestClassifier(n_jobs=-1, min_samples_split=50, min_samples_leaf=20,\n",
    "                            n_estimators = 80)"
   ]
  },
  {
   "cell_type": "code",
   "execution_count": 23,
   "id": "f420da8f",
   "metadata": {},
   "outputs": [
    {
     "data": {
      "text/plain": [
       "RandomForestClassifier(min_samples_leaf=20, min_samples_split=50,\n",
       "                       n_estimators=80, n_jobs=-1)"
      ]
     },
     "execution_count": 23,
     "metadata": {},
     "output_type": "execute_result"
    }
   ],
   "source": [
    "rfc.fit(X_train, y_train)"
   ]
  },
  {
   "cell_type": "code",
   "execution_count": 24,
   "id": "31d69532",
   "metadata": {},
   "outputs": [
    {
     "name": "stdout",
     "output_type": "stream",
     "text": [
      "1.9195065945209078\n",
      "2.300256524634753\n"
     ]
    }
   ],
   "source": [
    "y_probs_train = rfc.predict_proba(X_train)\n",
    "y_probs_val = rfc.predict_proba(X_test)\n",
    "\n",
    "print(log_loss(y_train, y_probs_train))\n",
    "print(log_loss(y_test, y_probs_val))"
   ]
  },
  {
   "cell_type": "code",
   "execution_count": 16,
   "id": "7b569cf8",
   "metadata": {},
   "outputs": [
    {
     "name": "stdout",
     "output_type": "stream",
     "text": [
      "[-3.42904581 -2.54988311 -5.50494495]\n"
     ]
    }
   ],
   "source": [
    "cv_res = cross_val_score(rfc, X, y, scoring='neg_log_loss',\n",
    "               cv = 3)\n",
    "print(cv_res)"
   ]
  },
  {
   "cell_type": "markdown",
   "id": "de2a1a53",
   "metadata": {},
   "source": [
    "### Random Forest - Random Search"
   ]
  },
  {
   "cell_type": "code",
   "execution_count": 164,
   "id": "6ba8c610",
   "metadata": {},
   "outputs": [],
   "source": [
    "distributions = {'n_estimators':[60, 100, 150],\n",
    "                'max_features':[10, 15],\n",
    "                'max_depth':[10, 20, 40],\n",
    "                'min_samples_split':[50, 100],\n",
    "                'min_samples_leaf':[20, 30]}"
   ]
  },
  {
   "cell_type": "code",
   "execution_count": null,
   "id": "3fc11a87",
   "metadata": {},
   "outputs": [],
   "source": [
    "clf = RandomizedSearchCV(estimator=rfc, \n",
    "                       scoring='neg_log_loss',\n",
    "                       param_distributions=distributions, \n",
    "                       cv = 3, n_iter=5,\n",
    "                       verbose=3)\n",
    "search = clf.fit(X, y)"
   ]
  },
  {
   "cell_type": "markdown",
   "id": "2400ff86",
   "metadata": {},
   "source": [
    "[CV 1/3] END max_depth=40, max_features=15, min_samples_leaf=20, min_samples_split=50, n_estimators=100;, score=-19.812 total time= 3.4min\n",
    "\n",
    "[CV 2/3] END max_depth=40, max_features=15, min_samples_leaf=20, min_samples_split=50, n_estimators=100;, score=-9.678 total time= 3.1min\n",
    "\n",
    "[CV 3/3] END max_depth=40, max_features=15, min_samples_leaf=20, min_samples_split=50, n_estimators=100;, score=nan total time= 3.5min\n",
    "\n",
    "[CV 1/3] END max_depth=20, max_features=15, min_samples_leaf=30, min_samples_split=100, n_estimators=150;, score=-18.414 total time= 5.3min\n",
    "\n",
    "[CV 2/3] END max_depth=20, max_features=15, min_samples_leaf=30, min_samples_split=100, n_estimators=150;, score=-7.833 total time= 4.6min"
   ]
  },
  {
   "cell_type": "code",
   "execution_count": 15,
   "id": "cbfecced",
   "metadata": {},
   "outputs": [],
   "source": [
    "y_probs_train = rfc.predict_proba(X_train)\n",
    "y_probs_val = rfc.predict_proba(X_val)"
   ]
  },
  {
   "cell_type": "code",
   "execution_count": null,
   "id": "3f72de91",
   "metadata": {},
   "outputs": [],
   "source": [
    "print(log_loss(y_train, y_probs_train))\n",
    "print(log_loss(y_val, y_probs_val))"
   ]
  },
  {
   "cell_type": "markdown",
   "id": "368bc52a",
   "metadata": {},
   "source": [
    "### Try using RF without the unimportant features"
   ]
  },
  {
   "cell_type": "code",
   "execution_count": 56,
   "id": "cbf7fabd",
   "metadata": {},
   "outputs": [],
   "source": [
    "rfc_s = RandomForestClassifier(n_jobs=-1, \n",
    "                             min_samples_split=200, \n",
    "                             min_samples_leaf=120,\n",
    "                            max_depth = 25,\n",
    "                            n_estimators = 60)"
   ]
  },
  {
   "cell_type": "code",
   "execution_count": 46,
   "id": "ac604041",
   "metadata": {},
   "outputs": [],
   "source": [
    "X_s, y_s = X.drop(columns=['PdDistrict', 'Roadtype', 'Block', 'Minute']), y"
   ]
  },
  {
   "cell_type": "code",
   "execution_count": 47,
   "id": "9fb5001e",
   "metadata": {},
   "outputs": [],
   "source": [
    "X_train_s, X_test_s, y_train_s, y_test_s = train_test_split(X_s, y_s, test_size = 0.3)"
   ]
  },
  {
   "cell_type": "code",
   "execution_count": 48,
   "id": "353dd098",
   "metadata": {},
   "outputs": [
    {
     "data": {
      "text/html": [
       "<div>\n",
       "<style scoped>\n",
       "    .dataframe tbody tr th:only-of-type {\n",
       "        vertical-align: middle;\n",
       "    }\n",
       "\n",
       "    .dataframe tbody tr th {\n",
       "        vertical-align: top;\n",
       "    }\n",
       "\n",
       "    .dataframe thead th {\n",
       "        text-align: right;\n",
       "    }\n",
       "</style>\n",
       "<table border=\"1\" class=\"dataframe\">\n",
       "  <thead>\n",
       "    <tr style=\"text-align: right;\">\n",
       "      <th></th>\n",
       "      <th>X</th>\n",
       "      <th>Y</th>\n",
       "      <th>Year</th>\n",
       "      <th>Month</th>\n",
       "      <th>Day</th>\n",
       "      <th>Hour</th>\n",
       "      <th>Dayofweek</th>\n",
       "      <th>XYsq</th>\n",
       "      <th>XYsum</th>\n",
       "      <th>XYdiff</th>\n",
       "      <th>XYprod</th>\n",
       "    </tr>\n",
       "  </thead>\n",
       "  <tbody>\n",
       "    <tr>\n",
       "      <th>440115</th>\n",
       "      <td>0.631926</td>\n",
       "      <td>0.510017</td>\n",
       "      <td>9</td>\n",
       "      <td>3</td>\n",
       "      <td>5</td>\n",
       "      <td>1</td>\n",
       "      <td>3</td>\n",
       "      <td>0.381563</td>\n",
       "      <td>0.562336</td>\n",
       "      <td>0.535081</td>\n",
       "      <td>0.466307</td>\n",
       "    </tr>\n",
       "    <tr>\n",
       "      <th>504740</th>\n",
       "      <td>0.835993</td>\n",
       "      <td>0.257973</td>\n",
       "      <td>8</td>\n",
       "      <td>4</td>\n",
       "      <td>3</td>\n",
       "      <td>9</td>\n",
       "      <td>3</td>\n",
       "      <td>0.135474</td>\n",
       "      <td>0.571464</td>\n",
       "      <td>0.826688</td>\n",
       "      <td>0.765490</td>\n",
       "    </tr>\n",
       "    <tr>\n",
       "      <th>494437</th>\n",
       "      <td>0.490378</td>\n",
       "      <td>0.525553</td>\n",
       "      <td>8</td>\n",
       "      <td>5</td>\n",
       "      <td>28</td>\n",
       "      <td>10</td>\n",
       "      <td>2</td>\n",
       "      <td>0.517591</td>\n",
       "      <td>0.478106</td>\n",
       "      <td>0.421669</td>\n",
       "      <td>0.400794</td>\n",
       "    </tr>\n",
       "    <tr>\n",
       "      <th>528954</th>\n",
       "      <td>0.421642</td>\n",
       "      <td>0.702877</td>\n",
       "      <td>7</td>\n",
       "      <td>11</td>\n",
       "      <td>26</td>\n",
       "      <td>18</td>\n",
       "      <td>0</td>\n",
       "      <td>0.620662</td>\n",
       "      <td>0.520231</td>\n",
       "      <td>0.271888</td>\n",
       "      <td>0.217536</td>\n",
       "    </tr>\n",
       "    <tr>\n",
       "      <th>670425</th>\n",
       "      <td>0.727389</td>\n",
       "      <td>0.804120</td>\n",
       "      <td>5</td>\n",
       "      <td>11</td>\n",
       "      <td>5</td>\n",
       "      <td>21</td>\n",
       "      <td>5</td>\n",
       "      <td>0.356230</td>\n",
       "      <td>0.768092</td>\n",
       "      <td>0.441665</td>\n",
       "      <td>0.238904</td>\n",
       "    </tr>\n",
       "  </tbody>\n",
       "</table>\n",
       "</div>"
      ],
      "text/plain": [
       "               X         Y  Year  Month  Day  Hour  Dayofweek      XYsq  \\\n",
       "440115  0.631926  0.510017     9      3    5     1          3  0.381563   \n",
       "504740  0.835993  0.257973     8      4    3     9          3  0.135474   \n",
       "494437  0.490378  0.525553     8      5   28    10          2  0.517591   \n",
       "528954  0.421642  0.702877     7     11   26    18          0  0.620662   \n",
       "670425  0.727389  0.804120     5     11    5    21          5  0.356230   \n",
       "\n",
       "           XYsum    XYdiff    XYprod  \n",
       "440115  0.562336  0.535081  0.466307  \n",
       "504740  0.571464  0.826688  0.765490  \n",
       "494437  0.478106  0.421669  0.400794  \n",
       "528954  0.520231  0.271888  0.217536  \n",
       "670425  0.768092  0.441665  0.238904  "
      ]
     },
     "execution_count": 48,
     "metadata": {},
     "output_type": "execute_result"
    }
   ],
   "source": [
    "X_train_s.head()"
   ]
  },
  {
   "cell_type": "code",
   "execution_count": 57,
   "id": "59a3567e",
   "metadata": {},
   "outputs": [
    {
     "data": {
      "text/plain": [
       "RandomForestClassifier(max_depth=25, min_samples_leaf=120,\n",
       "                       min_samples_split=200, n_estimators=60, n_jobs=-1)"
      ]
     },
     "execution_count": 57,
     "metadata": {},
     "output_type": "execute_result"
    }
   ],
   "source": [
    "rfc_s.fit(X_train_s, y_train_s)"
   ]
  },
  {
   "cell_type": "code",
   "execution_count": 58,
   "id": "bbde2609",
   "metadata": {},
   "outputs": [],
   "source": [
    "y_probs_train = rfc_s.predict_proba(X_train_s)\n",
    "y_probs_test = rfc_s.predict_proba(X_test_s)"
   ]
  },
  {
   "cell_type": "code",
   "execution_count": 59,
   "id": "a50c1a7d",
   "metadata": {},
   "outputs": [
    {
     "name": "stdout",
     "output_type": "stream",
     "text": [
      "2.284608626343765\n",
      "2.39686856620676\n"
     ]
    }
   ],
   "source": [
    "print(log_loss(y_train_s, y_probs_train))\n",
    "print(log_loss(y_test_s, y_probs_test))"
   ]
  },
  {
   "cell_type": "markdown",
   "id": "b58d179d",
   "metadata": {},
   "source": [
    "### Random Search with few features"
   ]
  },
  {
   "cell_type": "code",
   "execution_count": 74,
   "id": "a73eed88",
   "metadata": {},
   "outputs": [],
   "source": [
    "distributions = {'n_estimators':[40, 60, 80],\n",
    "                'max_features':[2, 3, 4],\n",
    "                'max_depth':[20, 30, 40],\n",
    "                'min_samples_split':[100, 120, 170],\n",
    "                'min_samples_leaf':[60, 80]}"
   ]
  },
  {
   "cell_type": "code",
   "execution_count": 76,
   "id": "cc3661d2",
   "metadata": {},
   "outputs": [
    {
     "name": "stdout",
     "output_type": "stream",
     "text": [
      "Fitting 3 folds for each of 10 candidates, totalling 30 fits\n",
      "[CV 1/3] END max_depth=40, max_features=2, min_samples_leaf=80, min_samples_split=100, n_estimators=80;, score=-3.163 total time=  28.6s\n",
      "[CV 2/3] END max_depth=40, max_features=2, min_samples_leaf=80, min_samples_split=100, n_estimators=80;, score=-2.595 total time=  28.2s\n",
      "[CV 3/3] END max_depth=40, max_features=2, min_samples_leaf=80, min_samples_split=100, n_estimators=80;, score=-3.817 total time=  31.0s\n",
      "[CV 1/3] END max_depth=20, max_features=3, min_samples_leaf=80, min_samples_split=170, n_estimators=60;, score=-3.890 total time=  30.1s\n",
      "[CV 2/3] END max_depth=20, max_features=3, min_samples_leaf=80, min_samples_split=170, n_estimators=60;, score=-2.665 total time=  28.9s\n",
      "[CV 3/3] END max_depth=20, max_features=3, min_samples_leaf=80, min_samples_split=170, n_estimators=60;, score=-5.568 total time=  29.2s\n",
      "[CV 1/3] END max_depth=20, max_features=2, min_samples_leaf=80, min_samples_split=170, n_estimators=80;, score=-3.126 total time=  28.9s\n",
      "[CV 2/3] END max_depth=20, max_features=2, min_samples_leaf=80, min_samples_split=170, n_estimators=80;, score=-2.597 total time=  28.6s\n",
      "[CV 3/3] END max_depth=20, max_features=2, min_samples_leaf=80, min_samples_split=170, n_estimators=80;, score=-3.813 total time=  28.0s\n",
      "[CV 1/3] END max_depth=40, max_features=3, min_samples_leaf=60, min_samples_split=100, n_estimators=80;, score=-3.906 total time=  38.2s\n",
      "[CV 2/3] END max_depth=40, max_features=3, min_samples_leaf=60, min_samples_split=100, n_estimators=80;, score=-2.709 total time=  38.4s\n",
      "[CV 3/3] END max_depth=40, max_features=3, min_samples_leaf=60, min_samples_split=100, n_estimators=80;, score=-5.827 total time=  40.0s\n",
      "[CV 1/3] END max_depth=40, max_features=2, min_samples_leaf=80, min_samples_split=120, n_estimators=60;, score=-3.093 total time=  22.1s\n",
      "[CV 2/3] END max_depth=40, max_features=2, min_samples_leaf=80, min_samples_split=120, n_estimators=60;, score=-2.580 total time=  22.2s\n",
      "[CV 3/3] END max_depth=40, max_features=2, min_samples_leaf=80, min_samples_split=120, n_estimators=60;, score=-3.809 total time=  21.5s\n",
      "[CV 1/3] END max_depth=40, max_features=2, min_samples_leaf=60, min_samples_split=170, n_estimators=80;, score=-3.125 total time=  32.1s\n",
      "[CV 2/3] END max_depth=40, max_features=2, min_samples_leaf=60, min_samples_split=170, n_estimators=80;, score=-2.641 total time=  30.3s\n",
      "[CV 3/3] END max_depth=40, max_features=2, min_samples_leaf=60, min_samples_split=170, n_estimators=80;, score=-3.789 total time=  30.1s\n",
      "[CV 1/3] END max_depth=30, max_features=3, min_samples_leaf=80, min_samples_split=100, n_estimators=40;, score=-3.981 total time=  19.2s\n",
      "[CV 2/3] END max_depth=30, max_features=3, min_samples_leaf=80, min_samples_split=100, n_estimators=40;, score=-2.720 total time=  17.0s\n",
      "[CV 3/3] END max_depth=30, max_features=3, min_samples_leaf=80, min_samples_split=100, n_estimators=40;, score=-5.763 total time=  19.1s\n",
      "[CV 1/3] END max_depth=30, max_features=4, min_samples_leaf=60, min_samples_split=120, n_estimators=40;, score=-7.312 total time=  25.3s\n",
      "[CV 2/3] END max_depth=30, max_features=4, min_samples_leaf=60, min_samples_split=120, n_estimators=40;, score=-2.901 total time=  24.1s\n",
      "[CV 3/3] END max_depth=30, max_features=4, min_samples_leaf=60, min_samples_split=120, n_estimators=40;, score=-13.092 total time=  23.5s\n",
      "[CV 1/3] END max_depth=20, max_features=4, min_samples_leaf=80, min_samples_split=120, n_estimators=60;, score=-5.145 total time=  35.3s\n",
      "[CV 2/3] END max_depth=20, max_features=4, min_samples_leaf=80, min_samples_split=120, n_estimators=60;, score=-2.858 total time=  33.8s\n",
      "[CV 3/3] END max_depth=20, max_features=4, min_samples_leaf=80, min_samples_split=120, n_estimators=60;, score=-9.691 total time=  33.7s\n",
      "[CV 1/3] END max_depth=40, max_features=3, min_samples_leaf=80, min_samples_split=100, n_estimators=60;, score=-3.974 total time=  27.2s\n",
      "[CV 2/3] END max_depth=40, max_features=3, min_samples_leaf=80, min_samples_split=100, n_estimators=60;, score=-2.709 total time=  24.9s\n",
      "[CV 3/3] END max_depth=40, max_features=3, min_samples_leaf=80, min_samples_split=100, n_estimators=60;, score=-5.759 total time=  26.5s\n"
     ]
    }
   ],
   "source": [
    "clf = RandomizedSearchCV(estimator=RandomForestClassifier(n_jobs=-1), \n",
    "                       scoring='neg_log_loss',\n",
    "                       param_distributions=distributions, \n",
    "                       cv = 3, n_iter=10,\n",
    "                       verbose=3)\n",
    "search = clf.fit(X_s, y_s)"
   ]
  },
  {
   "cell_type": "code",
   "execution_count": 77,
   "id": "890ec75e",
   "metadata": {},
   "outputs": [
    {
     "data": {
      "text/plain": [
       "-3.16053189467403"
      ]
     },
     "execution_count": 77,
     "metadata": {},
     "output_type": "execute_result"
    }
   ],
   "source": [
    "search.best_score_"
   ]
  },
  {
   "cell_type": "code",
   "execution_count": 86,
   "id": "b2479703",
   "metadata": {},
   "outputs": [
    {
     "data": {
      "text/plain": [
       "{'n_estimators': 60,\n",
       " 'min_samples_split': 120,\n",
       " 'min_samples_leaf': 80,\n",
       " 'max_features': 2,\n",
       " 'max_depth': 40}"
      ]
     },
     "execution_count": 86,
     "metadata": {},
     "output_type": "execute_result"
    }
   ],
   "source": [
    "search.best_params_"
   ]
  },
  {
   "cell_type": "code",
   "execution_count": 78,
   "id": "ca97a184",
   "metadata": {},
   "outputs": [],
   "source": [
    "rfc_rs_best = search.best_estimator_"
   ]
  },
  {
   "cell_type": "code",
   "execution_count": 98,
   "id": "1c0ece4d",
   "metadata": {},
   "outputs": [],
   "source": [
    "## Try now a Grid Search\n",
    "grid = {'n_estimators':[60],\n",
    "            'max_features':[2, 3],\n",
    "            'max_depth':[40],\n",
    "            'min_samples_split':[100, 120, 140],\n",
    "            'min_samples_leaf':[80, 100]}"
   ]
  },
  {
   "cell_type": "code",
   "execution_count": 99,
   "id": "364faca6",
   "metadata": {},
   "outputs": [
    {
     "name": "stdout",
     "output_type": "stream",
     "text": [
      "Fitting 3 folds for each of 12 candidates, totalling 36 fits\n",
      "[CV 1/3] END max_depth=40, max_features=2, min_samples_leaf=80, min_samples_split=100, n_estimators=60;, score=-3.077 total time=  33.3s\n",
      "[CV 2/3] END max_depth=40, max_features=2, min_samples_leaf=80, min_samples_split=100, n_estimators=60;, score=-2.610 total time=  29.7s\n",
      "[CV 3/3] END max_depth=40, max_features=2, min_samples_leaf=80, min_samples_split=100, n_estimators=60;, score=-3.923 total time=  27.3s\n",
      "[CV 1/3] END max_depth=40, max_features=2, min_samples_leaf=80, min_samples_split=120, n_estimators=60;, score=-3.146 total time=  30.4s\n",
      "[CV 2/3] END max_depth=40, max_features=2, min_samples_leaf=80, min_samples_split=120, n_estimators=60;, score=-2.578 total time=  48.2s\n",
      "[CV 3/3] END max_depth=40, max_features=2, min_samples_leaf=80, min_samples_split=120, n_estimators=60;, score=-3.759 total time=  31.5s\n",
      "[CV 1/3] END max_depth=40, max_features=2, min_samples_leaf=80, min_samples_split=140, n_estimators=60;, score=-3.140 total time=  38.7s\n",
      "[CV 2/3] END max_depth=40, max_features=2, min_samples_leaf=80, min_samples_split=140, n_estimators=60;, score=-2.611 total time=  29.7s\n",
      "[CV 3/3] END max_depth=40, max_features=2, min_samples_leaf=80, min_samples_split=140, n_estimators=60;, score=-3.806 total time=  36.8s\n",
      "[CV 1/3] END max_depth=40, max_features=2, min_samples_leaf=100, min_samples_split=100, n_estimators=60;, score=-3.095 total time=  32.2s\n",
      "[CV 2/3] END max_depth=40, max_features=2, min_samples_leaf=100, min_samples_split=100, n_estimators=60;, score=-2.613 total time=  28.9s\n",
      "[CV 3/3] END max_depth=40, max_features=2, min_samples_leaf=100, min_samples_split=100, n_estimators=60;, score=-3.749 total time=  32.3s\n",
      "[CV 1/3] END max_depth=40, max_features=2, min_samples_leaf=100, min_samples_split=120, n_estimators=60;, score=-3.180 total time=  24.8s\n",
      "[CV 2/3] END max_depth=40, max_features=2, min_samples_leaf=100, min_samples_split=120, n_estimators=60;, score=-2.557 total time=  24.7s\n",
      "[CV 3/3] END max_depth=40, max_features=2, min_samples_leaf=100, min_samples_split=120, n_estimators=60;, score=-3.754 total time=  25.7s\n",
      "[CV 1/3] END max_depth=40, max_features=2, min_samples_leaf=100, min_samples_split=140, n_estimators=60;, score=-3.017 total time=  26.9s\n",
      "[CV 2/3] END max_depth=40, max_features=2, min_samples_leaf=100, min_samples_split=140, n_estimators=60;, score=-2.618 total time=  25.4s\n",
      "[CV 3/3] END max_depth=40, max_features=2, min_samples_leaf=100, min_samples_split=140, n_estimators=60;, score=-3.832 total time=  28.9s\n",
      "[CV 1/3] END max_depth=40, max_features=3, min_samples_leaf=80, min_samples_split=100, n_estimators=60;, score=-3.981 total time=  45.7s\n",
      "[CV 2/3] END max_depth=40, max_features=3, min_samples_leaf=80, min_samples_split=100, n_estimators=60;, score=-2.719 total time=  39.7s\n",
      "[CV 3/3] END max_depth=40, max_features=3, min_samples_leaf=80, min_samples_split=100, n_estimators=60;, score=-6.055 total time=  46.0s\n",
      "[CV 1/3] END max_depth=40, max_features=3, min_samples_leaf=80, min_samples_split=120, n_estimators=60;, score=-3.893 total time=  56.5s\n",
      "[CV 2/3] END max_depth=40, max_features=3, min_samples_leaf=80, min_samples_split=120, n_estimators=60;, score=-2.746 total time=  43.3s\n",
      "[CV 3/3] END max_depth=40, max_features=3, min_samples_leaf=80, min_samples_split=120, n_estimators=60;, score=-7.017 total time=  37.6s\n",
      "[CV 1/3] END max_depth=40, max_features=3, min_samples_leaf=80, min_samples_split=140, n_estimators=60;, score=-3.901 total time=  30.9s\n",
      "[CV 2/3] END max_depth=40, max_features=3, min_samples_leaf=80, min_samples_split=140, n_estimators=60;, score=-2.706 total time=  28.6s\n",
      "[CV 3/3] END max_depth=40, max_features=3, min_samples_leaf=80, min_samples_split=140, n_estimators=60;, score=-5.276 total time=  28.8s\n",
      "[CV 1/3] END max_depth=40, max_features=3, min_samples_leaf=100, min_samples_split=100, n_estimators=60;, score=-3.873 total time=  40.5s\n",
      "[CV 2/3] END max_depth=40, max_features=3, min_samples_leaf=100, min_samples_split=100, n_estimators=60;, score=-2.706 total time=  37.1s\n",
      "[CV 3/3] END max_depth=40, max_features=3, min_samples_leaf=100, min_samples_split=100, n_estimators=60;, score=-5.245 total time=  41.8s\n",
      "[CV 1/3] END max_depth=40, max_features=3, min_samples_leaf=100, min_samples_split=120, n_estimators=60;, score=-3.923 total time=  43.4s\n",
      "[CV 2/3] END max_depth=40, max_features=3, min_samples_leaf=100, min_samples_split=120, n_estimators=60;, score=-2.679 total time=  28.8s\n",
      "[CV 3/3] END max_depth=40, max_features=3, min_samples_leaf=100, min_samples_split=120, n_estimators=60;, score=-5.013 total time=  28.8s\n",
      "[CV 1/3] END max_depth=40, max_features=3, min_samples_leaf=100, min_samples_split=140, n_estimators=60;, score=-3.713 total time=  28.9s\n",
      "[CV 2/3] END max_depth=40, max_features=3, min_samples_leaf=100, min_samples_split=140, n_estimators=60;, score=-2.682 total time=  33.2s\n",
      "[CV 3/3] END max_depth=40, max_features=3, min_samples_leaf=100, min_samples_split=140, n_estimators=60;, score=-6.153 total time=  29.3s\n"
     ]
    }
   ],
   "source": [
    "clf = GridSearchCV(estimator=RandomForestClassifier(n_jobs=-1), \n",
    "                       scoring='neg_log_loss',\n",
    "                       param_grid=grid, \n",
    "                       cv = 3,\n",
    "                       verbose=3)\n",
    "search = clf.fit(X_s, y_s)"
   ]
  },
  {
   "cell_type": "code",
   "execution_count": 106,
   "id": "8fa7ba00",
   "metadata": {},
   "outputs": [
    {
     "data": {
      "text/plain": [
       "{'max_depth': 40,\n",
       " 'max_features': 2,\n",
       " 'min_samples_leaf': 100,\n",
       " 'min_samples_split': 100,\n",
       " 'n_estimators': 60}"
      ]
     },
     "execution_count": 106,
     "metadata": {},
     "output_type": "execute_result"
    }
   ],
   "source": [
    "search.best_params_"
   ]
  },
  {
   "cell_type": "code",
   "execution_count": 101,
   "id": "7d274a23",
   "metadata": {},
   "outputs": [],
   "source": [
    "rfc_gs_best = search.best_estimator_"
   ]
  },
  {
   "cell_type": "code",
   "execution_count": 108,
   "id": "822ab3b4",
   "metadata": {},
   "outputs": [
    {
     "data": {
      "text/plain": [
       "RandomForestClassifier(max_depth=40, max_features=2, min_samples_leaf=100,\n",
       "                       min_samples_split=100, n_estimators=60, n_jobs=-1)"
      ]
     },
     "execution_count": 108,
     "metadata": {},
     "output_type": "execute_result"
    }
   ],
   "source": [
    "rfc_gs_best.fit(X_s, y_s)"
   ]
  },
  {
   "cell_type": "markdown",
   "id": "5e639b66",
   "metadata": {},
   "source": [
    "## LightGBM"
   ]
  },
  {
   "cell_type": "code",
   "execution_count": 12,
   "id": "6743e88d",
   "metadata": {},
   "outputs": [],
   "source": [
    "X_train, X_test, y_train, y_test = train_test_split(X, y, test_size = 0.3)"
   ]
  },
  {
   "cell_type": "code",
   "execution_count": 31,
   "id": "c5d86655",
   "metadata": {},
   "outputs": [],
   "source": [
    "lgbc = lgb.LGBMClassifier(objective='multiclass', num_classes=39)"
   ]
  },
  {
   "cell_type": "code",
   "execution_count": 32,
   "id": "a9f1ad9c",
   "metadata": {},
   "outputs": [
    {
     "name": "stdout",
     "output_type": "stream",
     "text": [
      "Wall time: 1min 5s\n"
     ]
    },
    {
     "data": {
      "text/plain": [
       "LGBMClassifier(num_classes=39, objective='multiclass')"
      ]
     },
     "execution_count": 32,
     "metadata": {},
     "output_type": "execute_result"
    }
   ],
   "source": [
    "%%time\n",
    "lgbc.fit(X_train, y_train)"
   ]
  },
  {
   "cell_type": "code",
   "execution_count": 33,
   "id": "9c5d7a1c",
   "metadata": {},
   "outputs": [
    {
     "name": "stdout",
     "output_type": "stream",
     "text": [
      "6.492721136931207\n",
      "6.862838997961302\n"
     ]
    }
   ],
   "source": [
    "y_probs_train = lgbc.predict_proba(X_train)\n",
    "y_probs_val = lgbc.predict_proba(X_test)\n",
    "\n",
    "print(log_loss(y_train, y_probs_train))\n",
    "print(log_loss(y_test, y_probs_val))"
   ]
  },
  {
   "cell_type": "markdown",
   "id": "2ee353fc",
   "metadata": {},
   "source": [
    "### LighGBM - Random Search"
   ]
  },
  {
   "cell_type": "code",
   "execution_count": 39,
   "id": "5eeb9c79",
   "metadata": {
    "scrolled": true
   },
   "outputs": [
    {
     "name": "stdout",
     "output_type": "stream",
     "text": [
      "Fitting 3 folds for each of 5 candidates, totalling 15 fits\n",
      "[CV 1/3] END bagging_fraction=0.8, bagging_frequency=5, learning_rate=0.4, max_bin=300, max_depth=13, min_data_in_leaf=30, num_leaves=50;, score=-30.521 total time= 1.7min\n",
      "[LightGBM] [Warning] Unknown parameter: bagging_frequency\n",
      "[LightGBM] [Warning] min_data_in_leaf is set=30, min_child_samples=20 will be ignored. Current value: min_data_in_leaf=30\n",
      "[LightGBM] [Warning] bagging_fraction is set=0.8, subsample=1.0 will be ignored. Current value: bagging_fraction=0.8\n",
      "[CV 2/3] END bagging_fraction=0.8, bagging_frequency=5, learning_rate=0.4, max_bin=300, max_depth=13, min_data_in_leaf=30, num_leaves=50;, score=-28.037 total time= 1.2min\n",
      "[LightGBM] [Warning] Unknown parameter: bagging_frequency\n",
      "[LightGBM] [Warning] min_data_in_leaf is set=30, min_child_samples=20 will be ignored. Current value: min_data_in_leaf=30\n",
      "[LightGBM] [Warning] bagging_fraction is set=0.8, subsample=1.0 will be ignored. Current value: bagging_fraction=0.8\n",
      "[CV 3/3] END bagging_fraction=0.8, bagging_frequency=5, learning_rate=0.4, max_bin=300, max_depth=13, min_data_in_leaf=30, num_leaves=50;, score=-30.936 total time= 1.5min\n",
      "[LightGBM] [Warning] Unknown parameter: bagging_frequency\n",
      "[LightGBM] [Warning] min_data_in_leaf is set=20, min_child_samples=20 will be ignored. Current value: min_data_in_leaf=20\n",
      "[LightGBM] [Warning] bagging_fraction is set=0.8, subsample=1.0 will be ignored. Current value: bagging_fraction=0.8\n",
      "[CV 1/3] END bagging_fraction=0.8, bagging_frequency=8, learning_rate=0.4, max_bin=300, max_depth=13, min_data_in_leaf=20, num_leaves=50;, score=-28.137 total time= 1.2min\n",
      "[LightGBM] [Warning] Unknown parameter: bagging_frequency\n",
      "[LightGBM] [Warning] min_data_in_leaf is set=20, min_child_samples=20 will be ignored. Current value: min_data_in_leaf=20\n",
      "[LightGBM] [Warning] bagging_fraction is set=0.8, subsample=1.0 will be ignored. Current value: bagging_fraction=0.8\n",
      "[CV 2/3] END bagging_fraction=0.8, bagging_frequency=8, learning_rate=0.4, max_bin=300, max_depth=13, min_data_in_leaf=20, num_leaves=50;, score=-31.234 total time= 1.3min\n",
      "[LightGBM] [Warning] Unknown parameter: bagging_frequency\n",
      "[LightGBM] [Warning] min_data_in_leaf is set=20, min_child_samples=20 will be ignored. Current value: min_data_in_leaf=20\n",
      "[LightGBM] [Warning] bagging_fraction is set=0.8, subsample=1.0 will be ignored. Current value: bagging_fraction=0.8\n",
      "[CV 3/3] END bagging_fraction=0.8, bagging_frequency=8, learning_rate=0.4, max_bin=300, max_depth=13, min_data_in_leaf=20, num_leaves=50;, score=-30.208 total time= 2.5min\n",
      "[LightGBM] [Warning] Unknown parameter: bagging_frequency\n",
      "[LightGBM] [Warning] min_data_in_leaf is set=20, min_child_samples=20 will be ignored. Current value: min_data_in_leaf=20\n",
      "[LightGBM] [Warning] bagging_fraction is set=0.5, subsample=1.0 will be ignored. Current value: bagging_fraction=0.5\n",
      "[CV 1/3] END bagging_fraction=0.5, bagging_frequency=8, learning_rate=0.4, max_bin=480, max_depth=13, min_data_in_leaf=20, num_leaves=40;, score=-31.675 total time= 1.2min\n",
      "[LightGBM] [Warning] Unknown parameter: bagging_frequency\n",
      "[LightGBM] [Warning] min_data_in_leaf is set=20, min_child_samples=20 will be ignored. Current value: min_data_in_leaf=20\n",
      "[LightGBM] [Warning] bagging_fraction is set=0.5, subsample=1.0 will be ignored. Current value: bagging_fraction=0.5\n",
      "[CV 2/3] END bagging_fraction=0.5, bagging_frequency=8, learning_rate=0.4, max_bin=480, max_depth=13, min_data_in_leaf=20, num_leaves=40;, score=-30.656 total time= 1.1min\n",
      "[LightGBM] [Warning] Unknown parameter: bagging_frequency\n",
      "[LightGBM] [Warning] min_data_in_leaf is set=20, min_child_samples=20 will be ignored. Current value: min_data_in_leaf=20\n",
      "[LightGBM] [Warning] bagging_fraction is set=0.5, subsample=1.0 will be ignored. Current value: bagging_fraction=0.5\n",
      "[CV 3/3] END bagging_fraction=0.5, bagging_frequency=8, learning_rate=0.4, max_bin=480, max_depth=13, min_data_in_leaf=20, num_leaves=40;, score=-31.688 total time= 1.2min\n",
      "[LightGBM] [Warning] Unknown parameter: bagging_frequency\n",
      "[LightGBM] [Warning] min_data_in_leaf is set=20, min_child_samples=20 will be ignored. Current value: min_data_in_leaf=20\n",
      "[LightGBM] [Warning] bagging_fraction is set=0.8, subsample=1.0 will be ignored. Current value: bagging_fraction=0.8\n",
      "[CV 1/3] END bagging_fraction=0.8, bagging_frequency=5, learning_rate=0.3, max_bin=480, max_depth=13, min_data_in_leaf=20, num_leaves=50;, score=-31.524 total time= 1.4min\n",
      "[LightGBM] [Warning] Unknown parameter: bagging_frequency\n",
      "[LightGBM] [Warning] min_data_in_leaf is set=20, min_child_samples=20 will be ignored. Current value: min_data_in_leaf=20\n",
      "[LightGBM] [Warning] bagging_fraction is set=0.8, subsample=1.0 will be ignored. Current value: bagging_fraction=0.8\n",
      "[CV 2/3] END bagging_fraction=0.8, bagging_frequency=5, learning_rate=0.3, max_bin=480, max_depth=13, min_data_in_leaf=20, num_leaves=50;, score=-24.141 total time= 2.0min\n",
      "[LightGBM] [Warning] Unknown parameter: bagging_frequency\n",
      "[LightGBM] [Warning] min_data_in_leaf is set=20, min_child_samples=20 will be ignored. Current value: min_data_in_leaf=20\n",
      "[LightGBM] [Warning] bagging_fraction is set=0.8, subsample=1.0 will be ignored. Current value: bagging_fraction=0.8\n",
      "[CV 3/3] END bagging_fraction=0.8, bagging_frequency=5, learning_rate=0.3, max_bin=480, max_depth=13, min_data_in_leaf=20, num_leaves=50;, score=-30.240 total time= 1.9min\n",
      "[LightGBM] [Warning] Unknown parameter: bagging_frequency\n",
      "[LightGBM] [Warning] min_data_in_leaf is set=30, min_child_samples=20 will be ignored. Current value: min_data_in_leaf=30\n",
      "[LightGBM] [Warning] bagging_fraction is set=0.5, subsample=1.0 will be ignored. Current value: bagging_fraction=0.5\n",
      "[CV 1/3] END bagging_fraction=0.5, bagging_frequency=8, learning_rate=0.4, max_bin=300, max_depth=13, min_data_in_leaf=30, num_leaves=50;, score=-30.521 total time= 1.4min\n",
      "[LightGBM] [Warning] Unknown parameter: bagging_frequency\n",
      "[LightGBM] [Warning] min_data_in_leaf is set=30, min_child_samples=20 will be ignored. Current value: min_data_in_leaf=30\n",
      "[LightGBM] [Warning] bagging_fraction is set=0.5, subsample=1.0 will be ignored. Current value: bagging_fraction=0.5\n",
      "[CV 2/3] END bagging_fraction=0.5, bagging_frequency=8, learning_rate=0.4, max_bin=300, max_depth=13, min_data_in_leaf=30, num_leaves=50;, score=-28.037 total time= 1.1min\n",
      "[LightGBM] [Warning] Unknown parameter: bagging_frequency\n",
      "[LightGBM] [Warning] min_data_in_leaf is set=30, min_child_samples=20 will be ignored. Current value: min_data_in_leaf=30\n",
      "[LightGBM] [Warning] bagging_fraction is set=0.5, subsample=1.0 will be ignored. Current value: bagging_fraction=0.5\n",
      "[CV 3/3] END bagging_fraction=0.5, bagging_frequency=8, learning_rate=0.4, max_bin=300, max_depth=13, min_data_in_leaf=30, num_leaves=50;, score=-30.936 total time= 1.4min\n",
      "[LightGBM] [Warning] Unknown parameter: bagging_frequency\n",
      "[LightGBM] [Warning] min_data_in_leaf is set=20, min_child_samples=20 will be ignored. Current value: min_data_in_leaf=20\n",
      "[LightGBM] [Warning] bagging_fraction is set=0.8, subsample=1.0 will be ignored. Current value: bagging_fraction=0.8\n"
     ]
    }
   ],
   "source": [
    "rs_params = {\n",
    "        'bagging_fraction': (0.5, 0.8),\n",
    "        'bagging_frequency': (5, 8),\n",
    "        'max_bin':(300, 480),\n",
    "        'max_depth': (10, 13),\n",
    "        'min_data_in_leaf': (20, 30),\n",
    "        'num_leaves': (40, 50),\n",
    "        'learning_rate':(0.4, 0.3)       \n",
    "\n",
    "}\n",
    "\n",
    "# Initialize a RandomizedSearchCV object using 5-fold CV-\n",
    "lgb_rs = RandomizedSearchCV(estimator=lgb.LGBMClassifier(objective='multiclass', num_classes=39), \n",
    "                           scoring='neg_log_loss',\n",
    "                           param_distributions=rs_params, cv = 3, n_iter=5,verbose=3)\n",
    "\n",
    "# Train on training data-\n",
    "search = lgb_rs.fit(X, y)"
   ]
  },
  {
   "cell_type": "code",
   "execution_count": 13,
   "id": "d4de7cdc",
   "metadata": {
    "collapsed": true
   },
   "outputs": [
    {
     "name": "stderr",
     "output_type": "stream",
     "text": [
      "D:\\MachineLearning\\MyProjects\\SanFranciscoCrimes\\env\\lib\\site-packages\\lightgbm\\basic.py:1702: UserWarning: Using categorical_feature in Dataset.\n",
      "  _log_warning('Using categorical_feature in Dataset.')\n"
     ]
    },
    {
     "name": "stdout",
     "output_type": "stream",
     "text": [
      "[LightGBM] [Warning] Auto-choosing row-wise multi-threading, the overhead of testing was 0.019438 seconds.\n",
      "You can set `force_row_wise=true` to remove the overhead.\n",
      "And if memory is not enough, you can set `force_col_wise=true`.\n",
      "[LightGBM] [Warning] No further splits with positive gain, best gain: -inf\n",
      "[LightGBM] [Warning] No further splits with positive gain, best gain: -inf\n",
      "[LightGBM] [Warning] No further splits with positive gain, best gain: -inf\n",
      "[LightGBM] [Warning] No further splits with positive gain, best gain: -inf\n",
      "[LightGBM] [Warning] No further splits with positive gain, best gain: -inf\n",
      "[LightGBM] [Warning] No further splits with positive gain, best gain: -inf\n",
      "[LightGBM] [Warning] No further splits with positive gain, best gain: -inf\n",
      "[LightGBM] [Warning] No further splits with positive gain, best gain: -inf\n",
      "[LightGBM] [Warning] No further splits with positive gain, best gain: -inf\n",
      "[LightGBM] [Warning] No further splits with positive gain, best gain: -inf\n",
      "[LightGBM] [Warning] No further splits with positive gain, best gain: -inf\n",
      "[LightGBM] [Warning] No further splits with positive gain, best gain: -inf\n",
      "[LightGBM] [Warning] No further splits with positive gain, best gain: -inf\n",
      "[LightGBM] [Warning] No further splits with positive gain, best gain: -inf\n",
      "[LightGBM] [Warning] No further splits with positive gain, best gain: -inf\n",
      "[LightGBM] [Warning] No further splits with positive gain, best gain: -inf\n",
      "[LightGBM] [Warning] No further splits with positive gain, best gain: -inf\n",
      "[LightGBM] [Warning] No further splits with positive gain, best gain: -inf\n",
      "[LightGBM] [Warning] No further splits with positive gain, best gain: -inf\n",
      "[LightGBM] [Warning] No further splits with positive gain, best gain: -inf\n",
      "[LightGBM] [Warning] No further splits with positive gain, best gain: -inf\n",
      "[LightGBM] [Warning] No further splits with positive gain, best gain: -inf\n",
      "[LightGBM] [Warning] No further splits with positive gain, best gain: -inf\n",
      "[LightGBM] [Warning] No further splits with positive gain, best gain: -inf\n",
      "[LightGBM] [Warning] No further splits with positive gain, best gain: -inf\n",
      "[LightGBM] [Warning] No further splits with positive gain, best gain: -inf\n",
      "[LightGBM] [Warning] No further splits with positive gain, best gain: -inf\n",
      "[LightGBM] [Warning] No further splits with positive gain, best gain: -inf\n",
      "[LightGBM] [Warning] No further splits with positive gain, best gain: -inf\n",
      "[LightGBM] [Warning] No further splits with positive gain, best gain: -inf\n",
      "[LightGBM] [Warning] No further splits with positive gain, best gain: -inf\n",
      "[LightGBM] [Warning] No further splits with positive gain, best gain: -inf\n",
      "[LightGBM] [Warning] No further splits with positive gain, best gain: -inf\n",
      "[LightGBM] [Warning] No further splits with positive gain, best gain: -inf\n",
      "[LightGBM] [Warning] No further splits with positive gain, best gain: -inf\n",
      "[LightGBM] [Warning] No further splits with positive gain, best gain: -inf\n",
      "[LightGBM] [Warning] No further splits with positive gain, best gain: -inf\n",
      "[LightGBM] [Warning] No further splits with positive gain, best gain: -inf\n",
      "[LightGBM] [Warning] No further splits with positive gain, best gain: -inf\n",
      "[LightGBM] [Warning] No further splits with positive gain, best gain: -inf\n",
      "[LightGBM] [Warning] No further splits with positive gain, best gain: -inf\n",
      "[LightGBM] [Warning] No further splits with positive gain, best gain: -inf\n",
      "[LightGBM] [Warning] No further splits with positive gain, best gain: -inf\n",
      "[LightGBM] [Warning] No further splits with positive gain, best gain: -inf\n",
      "[LightGBM] [Warning] No further splits with positive gain, best gain: -inf\n",
      "[LightGBM] [Warning] No further splits with positive gain, best gain: -inf\n",
      "[LightGBM] [Warning] No further splits with positive gain, best gain: -inf\n",
      "[LightGBM] [Warning] No further splits with positive gain, best gain: -inf\n",
      "[LightGBM] [Warning] No further splits with positive gain, best gain: -inf\n",
      "[LightGBM] [Warning] No further splits with positive gain, best gain: -inf\n",
      "[LightGBM] [Warning] No further splits with positive gain, best gain: -inf\n",
      "[LightGBM] [Warning] No further splits with positive gain, best gain: -inf\n",
      "[LightGBM] [Warning] No further splits with positive gain, best gain: -inf\n",
      "[LightGBM] [Warning] No further splits with positive gain, best gain: -inf\n",
      "[LightGBM] [Warning] No further splits with positive gain, best gain: -inf\n",
      "[LightGBM] [Warning] No further splits with positive gain, best gain: -inf\n",
      "[LightGBM] [Warning] No further splits with positive gain, best gain: -inf\n",
      "[LightGBM] [Warning] No further splits with positive gain, best gain: -inf\n",
      "[LightGBM] [Warning] No further splits with positive gain, best gain: -inf\n",
      "[LightGBM] [Warning] No further splits with positive gain, best gain: -inf\n",
      "[LightGBM] [Warning] No further splits with positive gain, best gain: -inf\n",
      "[LightGBM] [Warning] No further splits with positive gain, best gain: -inf\n",
      "[LightGBM] [Warning] No further splits with positive gain, best gain: -inf\n",
      "[LightGBM] [Warning] No further splits with positive gain, best gain: -inf\n",
      "[LightGBM] [Warning] No further splits with positive gain, best gain: -inf\n",
      "[LightGBM] [Warning] No further splits with positive gain, best gain: -inf\n",
      "[LightGBM] [Warning] No further splits with positive gain, best gain: -inf\n",
      "[LightGBM] [Warning] No further splits with positive gain, best gain: -inf\n",
      "[LightGBM] [Warning] No further splits with positive gain, best gain: -inf\n",
      "[LightGBM] [Warning] No further splits with positive gain, best gain: -inf\n",
      "[LightGBM] [Warning] No further splits with positive gain, best gain: -inf\n",
      "[LightGBM] [Warning] No further splits with positive gain, best gain: -inf\n",
      "[LightGBM] [Warning] No further splits with positive gain, best gain: -inf\n",
      "[LightGBM] [Warning] No further splits with positive gain, best gain: -inf\n",
      "[LightGBM] [Warning] No further splits with positive gain, best gain: -inf\n",
      "[LightGBM] [Warning] No further splits with positive gain, best gain: -inf\n",
      "[LightGBM] [Warning] No further splits with positive gain, best gain: -inf\n",
      "[LightGBM] [Warning] No further splits with positive gain, best gain: -inf\n",
      "[LightGBM] [Warning] No further splits with positive gain, best gain: -inf\n",
      "[LightGBM] [Warning] No further splits with positive gain, best gain: -inf\n",
      "[LightGBM] [Warning] No further splits with positive gain, best gain: -inf\n",
      "[LightGBM] [Warning] No further splits with positive gain, best gain: -inf\n",
      "[LightGBM] [Warning] No further splits with positive gain, best gain: -inf\n",
      "[LightGBM] [Warning] No further splits with positive gain, best gain: -inf\n",
      "[LightGBM] [Warning] No further splits with positive gain, best gain: -inf\n",
      "[LightGBM] [Warning] No further splits with positive gain, best gain: -inf\n",
      "[LightGBM] [Warning] No further splits with positive gain, best gain: -inf\n",
      "[LightGBM] [Warning] No further splits with positive gain, best gain: -inf\n",
      "[LightGBM] [Warning] No further splits with positive gain, best gain: -inf\n",
      "[LightGBM] [Warning] No further splits with positive gain, best gain: -inf\n",
      "[LightGBM] [Warning] No further splits with positive gain, best gain: -inf\n",
      "[LightGBM] [Warning] No further splits with positive gain, best gain: -inf\n",
      "[LightGBM] [Warning] No further splits with positive gain, best gain: -inf\n",
      "[LightGBM] [Warning] No further splits with positive gain, best gain: -inf\n",
      "[LightGBM] [Warning] No further splits with positive gain, best gain: -inf\n",
      "[LightGBM] [Warning] No further splits with positive gain, best gain: -inf\n",
      "[LightGBM] [Warning] No further splits with positive gain, best gain: -inf\n",
      "[LightGBM] [Warning] No further splits with positive gain, best gain: -inf\n",
      "[LightGBM] [Warning] No further splits with positive gain, best gain: -inf\n",
      "[LightGBM] [Warning] No further splits with positive gain, best gain: -inf\n",
      "[LightGBM] [Warning] No further splits with positive gain, best gain: -inf\n",
      "[LightGBM] [Warning] No further splits with positive gain, best gain: -inf\n",
      "[LightGBM] [Warning] No further splits with positive gain, best gain: -inf\n",
      "[LightGBM] [Warning] No further splits with positive gain, best gain: -inf\n",
      "[LightGBM] [Warning] No further splits with positive gain, best gain: -inf\n",
      "[LightGBM] [Warning] No further splits with positive gain, best gain: -inf\n",
      "[LightGBM] [Warning] No further splits with positive gain, best gain: -inf\n"
     ]
    },
    {
     "name": "stdout",
     "output_type": "stream",
     "text": [
      "[LightGBM] [Warning] No further splits with positive gain, best gain: -inf\n",
      "[LightGBM] [Warning] No further splits with positive gain, best gain: -inf\n",
      "[LightGBM] [Warning] No further splits with positive gain, best gain: -inf\n",
      "[LightGBM] [Warning] No further splits with positive gain, best gain: -inf\n",
      "[LightGBM] [Warning] No further splits with positive gain, best gain: -inf\n",
      "[LightGBM] [Warning] No further splits with positive gain, best gain: -inf\n",
      "[LightGBM] [Warning] No further splits with positive gain, best gain: -inf\n",
      "[LightGBM] [Warning] No further splits with positive gain, best gain: -inf\n",
      "[LightGBM] [Warning] No further splits with positive gain, best gain: -inf\n",
      "[LightGBM] [Warning] No further splits with positive gain, best gain: -inf\n",
      "[LightGBM] [Warning] No further splits with positive gain, best gain: -inf\n",
      "[LightGBM] [Warning] No further splits with positive gain, best gain: -inf\n",
      "[LightGBM] [Warning] No further splits with positive gain, best gain: -inf\n",
      "[LightGBM] [Warning] No further splits with positive gain, best gain: -inf\n",
      "[LightGBM] [Warning] No further splits with positive gain, best gain: -inf\n",
      "[LightGBM] [Warning] No further splits with positive gain, best gain: -inf\n",
      "[LightGBM] [Warning] No further splits with positive gain, best gain: -inf\n",
      "[LightGBM] [Warning] No further splits with positive gain, best gain: -inf\n",
      "[LightGBM] [Warning] No further splits with positive gain, best gain: -inf\n",
      "[LightGBM] [Warning] No further splits with positive gain, best gain: -inf\n",
      "[LightGBM] [Warning] No further splits with positive gain, best gain: -inf\n",
      "[LightGBM] [Warning] No further splits with positive gain, best gain: -inf\n",
      "[LightGBM] [Warning] No further splits with positive gain, best gain: -inf\n",
      "[LightGBM] [Warning] No further splits with positive gain, best gain: -inf\n",
      "[LightGBM] [Warning] No further splits with positive gain, best gain: -inf\n",
      "[LightGBM] [Warning] No further splits with positive gain, best gain: -inf\n",
      "[LightGBM] [Warning] No further splits with positive gain, best gain: -inf\n",
      "[LightGBM] [Warning] No further splits with positive gain, best gain: -inf\n",
      "[LightGBM] [Warning] No further splits with positive gain, best gain: -inf\n",
      "[LightGBM] [Warning] No further splits with positive gain, best gain: -inf\n",
      "[LightGBM] [Warning] No further splits with positive gain, best gain: -inf\n",
      "[LightGBM] [Warning] No further splits with positive gain, best gain: -inf\n",
      "[LightGBM] [Warning] No further splits with positive gain, best gain: -inf\n",
      "[LightGBM] [Warning] No further splits with positive gain, best gain: -inf\n",
      "[LightGBM] [Warning] No further splits with positive gain, best gain: -inf\n",
      "[LightGBM] [Warning] No further splits with positive gain, best gain: -inf\n",
      "[LightGBM] [Warning] No further splits with positive gain, best gain: -inf\n",
      "[LightGBM] [Warning] No further splits with positive gain, best gain: -inf\n",
      "[LightGBM] [Warning] No further splits with positive gain, best gain: -inf\n",
      "[LightGBM] [Warning] No further splits with positive gain, best gain: -inf\n",
      "[LightGBM] [Warning] No further splits with positive gain, best gain: -inf\n",
      "[LightGBM] [Warning] No further splits with positive gain, best gain: -inf\n",
      "[LightGBM] [Warning] No further splits with positive gain, best gain: -inf\n",
      "[LightGBM] [Warning] No further splits with positive gain, best gain: -inf\n",
      "[LightGBM] [Warning] No further splits with positive gain, best gain: -inf\n",
      "[LightGBM] [Warning] No further splits with positive gain, best gain: -inf\n",
      "[LightGBM] [Warning] No further splits with positive gain, best gain: -inf\n",
      "[LightGBM] [Warning] No further splits with positive gain, best gain: -inf\n",
      "[LightGBM] [Warning] No further splits with positive gain, best gain: -inf\n",
      "[LightGBM] [Warning] No further splits with positive gain, best gain: -inf\n",
      "[LightGBM] [Warning] No further splits with positive gain, best gain: -inf\n",
      "[LightGBM] [Warning] No further splits with positive gain, best gain: -inf\n",
      "[LightGBM] [Warning] No further splits with positive gain, best gain: -inf\n",
      "[LightGBM] [Warning] No further splits with positive gain, best gain: -inf\n",
      "[LightGBM] [Warning] No further splits with positive gain, best gain: -inf\n",
      "[LightGBM] [Warning] No further splits with positive gain, best gain: -inf\n",
      "[LightGBM] [Warning] No further splits with positive gain, best gain: -inf\n",
      "[LightGBM] [Warning] No further splits with positive gain, best gain: -inf\n",
      "[LightGBM] [Warning] No further splits with positive gain, best gain: -inf\n",
      "[LightGBM] [Warning] No further splits with positive gain, best gain: -inf\n",
      "[LightGBM] [Warning] No further splits with positive gain, best gain: -inf\n",
      "[LightGBM] [Warning] No further splits with positive gain, best gain: -inf\n",
      "[LightGBM] [Warning] No further splits with positive gain, best gain: -inf\n",
      "[LightGBM] [Warning] No further splits with positive gain, best gain: -inf\n",
      "[LightGBM] [Warning] No further splits with positive gain, best gain: -inf\n",
      "[LightGBM] [Warning] No further splits with positive gain, best gain: -inf\n",
      "[LightGBM] [Warning] No further splits with positive gain, best gain: -inf\n",
      "[LightGBM] [Warning] No further splits with positive gain, best gain: -inf\n",
      "[LightGBM] [Warning] No further splits with positive gain, best gain: -inf\n",
      "[LightGBM] [Warning] No further splits with positive gain, best gain: -inf\n",
      "[LightGBM] [Warning] No further splits with positive gain, best gain: -inf\n",
      "[LightGBM] [Warning] No further splits with positive gain, best gain: -inf\n",
      "[LightGBM] [Warning] No further splits with positive gain, best gain: -inf\n",
      "[LightGBM] [Warning] No further splits with positive gain, best gain: -inf\n",
      "[LightGBM] [Warning] No further splits with positive gain, best gain: -inf\n",
      "[LightGBM] [Warning] No further splits with positive gain, best gain: -inf\n"
     ]
    }
   ],
   "source": [
    "trains = lgb.Dataset(X_train, label = y_train, categorical_feature=['PdDistrict', 'Roadtype','Block'])\n",
    "params = {\n",
    "    'boosting':'gbdt',\n",
    "    'objective':'multiclass',\n",
    "    'num_class':39,\n",
    "    'max_delta_step':0.9,\n",
    "    'min_data_in_leaf': 20,\n",
    "    'learning_rate': 0.3,\n",
    "    'max_bin': 480,\n",
    "    'num_leaves': 50,\n",
    "    'verbose' : 0\n",
    "}\n",
    "lgb_rs = lgb.train(params, trains, 120)"
   ]
  },
  {
   "cell_type": "code",
   "execution_count": 15,
   "id": "25118c66",
   "metadata": {},
   "outputs": [
    {
     "name": "stdout",
     "output_type": "stream",
     "text": [
      "1.9144923829916218\n",
      "2.2584580142096966\n"
     ]
    }
   ],
   "source": [
    "y_probs_train = lgb_rs.predict(X_train)\n",
    "y_probs_val = lgb_rs.predict(X_test)\n",
    "\n",
    "print(log_loss(y_train, y_probs_train))\n",
    "print(log_loss(y_test, y_probs_val))"
   ]
  },
  {
   "cell_type": "code",
   "execution_count": 39,
   "id": "e131f32b",
   "metadata": {},
   "outputs": [
    {
     "data": {
      "image/png": "[encoded data removed]",
      "text/plain": [
       "<Figure size 720x432 with 1 Axes>"
      ]
     },
     "metadata": {
      "needs_background": "light"
     },
     "output_type": "display_data"
    }
   ],
   "source": [
    "fig, ax = plt.subplots(figsize=(10,6))\n",
    "lgb.plot_importance(lgb_rs, ax=ax)\n",
    "plt.show()"
   ]
  },
  {
   "cell_type": "markdown",
   "id": "fb8869da",
   "metadata": {},
   "source": [
    "## Native LightGBM "
   ]
  },
  {
   "cell_type": "markdown",
   "id": "95008a17",
   "metadata": {},
   "source": [
    "### Remove low importance features"
   ]
  },
  {
   "cell_type": "code",
   "execution_count": 114,
   "id": "aca41277",
   "metadata": {},
   "outputs": [],
   "source": [
    "X_s, y_s = X.drop(columns=['PdDistrict', 'Roadtype', 'Block', 'Minute']), y"
   ]
  },
  {
   "cell_type": "code",
   "execution_count": 118,
   "id": "c66a7f3b",
   "metadata": {},
   "outputs": [],
   "source": [
    "X_train_s, X_test_s, y_train_s, y_test_s = train_test_split(X_s, y_s, test_size = 0.3)"
   ]
  },
  {
   "cell_type": "code",
   "execution_count": 140,
   "id": "b969dfd9",
   "metadata": {
    "scrolled": true
   },
   "outputs": [
    {
     "name": "stdout",
     "output_type": "stream",
     "text": [
      "[LightGBM] [Warning] Auto-choosing row-wise multi-threading, the overhead of testing was 0.007842 seconds.\n",
      "You can set `force_row_wise=true` to remove the overhead.\n",
      "And if memory is not enough, you can set `force_col_wise=true`.\n",
      "[LightGBM] [Warning] No further splits with positive gain, best gain: -inf\n",
      "[LightGBM] [Warning] No further splits with positive gain, best gain: -inf\n",
      "[LightGBM] [Warning] No further splits with positive gain, best gain: -inf\n",
      "[LightGBM] [Warning] No further splits with positive gain, best gain: -inf\n",
      "[LightGBM] [Warning] No further splits with positive gain, best gain: -inf\n",
      "[LightGBM] [Warning] No further splits with positive gain, best gain: -inf\n",
      "[LightGBM] [Warning] No further splits with positive gain, best gain: -inf\n",
      "[LightGBM] [Warning] No further splits with positive gain, best gain: -inf\n",
      "[LightGBM] [Warning] No further splits with positive gain, best gain: -inf\n",
      "[LightGBM] [Warning] No further splits with positive gain, best gain: -inf\n",
      "[LightGBM] [Warning] No further splits with positive gain, best gain: -inf\n",
      "[LightGBM] [Warning] No further splits with positive gain, best gain: -inf\n",
      "[LightGBM] [Warning] No further splits with positive gain, best gain: -inf\n",
      "[LightGBM] [Warning] No further splits with positive gain, best gain: -inf\n",
      "[LightGBM] [Warning] No further splits with positive gain, best gain: -inf\n",
      "[LightGBM] [Warning] No further splits with positive gain, best gain: -inf\n",
      "[LightGBM] [Warning] No further splits with positive gain, best gain: -inf\n",
      "[LightGBM] [Warning] No further splits with positive gain, best gain: -inf\n",
      "[LightGBM] [Warning] No further splits with positive gain, best gain: -inf\n",
      "[LightGBM] [Warning] No further splits with positive gain, best gain: -inf\n",
      "[LightGBM] [Warning] No further splits with positive gain, best gain: -inf\n",
      "[LightGBM] [Warning] No further splits with positive gain, best gain: -inf\n",
      "[LightGBM] [Warning] No further splits with positive gain, best gain: -inf\n",
      "[LightGBM] [Warning] No further splits with positive gain, best gain: -inf\n",
      "[LightGBM] [Warning] No further splits with positive gain, best gain: -inf\n",
      "[LightGBM] [Warning] No further splits with positive gain, best gain: -inf\n",
      "[LightGBM] [Warning] No further splits with positive gain, best gain: -inf\n",
      "[LightGBM] [Warning] No further splits with positive gain, best gain: -inf\n",
      "[LightGBM] [Warning] No further splits with positive gain, best gain: -inf\n",
      "[LightGBM] [Warning] No further splits with positive gain, best gain: -inf\n",
      "[LightGBM] [Warning] No further splits with positive gain, best gain: -inf\n",
      "[LightGBM] [Warning] No further splits with positive gain, best gain: -inf\n",
      "[LightGBM] [Warning] No further splits with positive gain, best gain: -inf\n",
      "[LightGBM] [Warning] No further splits with positive gain, best gain: -inf\n",
      "[LightGBM] [Warning] No further splits with positive gain, best gain: -inf\n",
      "[LightGBM] [Warning] No further splits with positive gain, best gain: -inf\n",
      "[LightGBM] [Warning] No further splits with positive gain, best gain: -inf\n",
      "[LightGBM] [Warning] No further splits with positive gain, best gain: -inf\n",
      "[LightGBM] [Warning] No further splits with positive gain, best gain: -inf\n",
      "[LightGBM] [Warning] No further splits with positive gain, best gain: -inf\n",
      "[LightGBM] [Warning] No further splits with positive gain, best gain: -inf\n",
      "[LightGBM] [Warning] No further splits with positive gain, best gain: -inf\n",
      "[LightGBM] [Warning] No further splits with positive gain, best gain: -inf\n",
      "[LightGBM] [Warning] No further splits with positive gain, best gain: -inf\n",
      "[LightGBM] [Warning] No further splits with positive gain, best gain: -inf\n",
      "[LightGBM] [Warning] No further splits with positive gain, best gain: -inf\n",
      "[LightGBM] [Warning] No further splits with positive gain, best gain: -inf\n",
      "[LightGBM] [Warning] No further splits with positive gain, best gain: -inf\n",
      "[LightGBM] [Warning] No further splits with positive gain, best gain: -inf\n",
      "[LightGBM] [Warning] No further splits with positive gain, best gain: -inf\n",
      "[LightGBM] [Warning] No further splits with positive gain, best gain: -inf\n",
      "[LightGBM] [Warning] No further splits with positive gain, best gain: -inf\n",
      "[LightGBM] [Warning] No further splits with positive gain, best gain: -inf\n",
      "[LightGBM] [Warning] No further splits with positive gain, best gain: -inf\n",
      "[LightGBM] [Warning] No further splits with positive gain, best gain: -inf\n",
      "[LightGBM] [Warning] No further splits with positive gain, best gain: -inf\n",
      "[LightGBM] [Warning] No further splits with positive gain, best gain: -inf\n",
      "[LightGBM] [Warning] No further splits with positive gain, best gain: -inf\n",
      "[LightGBM] [Warning] No further splits with positive gain, best gain: -inf\n",
      "[LightGBM] [Warning] No further splits with positive gain, best gain: -inf\n",
      "[LightGBM] [Warning] No further splits with positive gain, best gain: -inf\n",
      "[LightGBM] [Warning] No further splits with positive gain, best gain: -inf\n",
      "[LightGBM] [Warning] No further splits with positive gain, best gain: -inf\n",
      "[LightGBM] [Warning] No further splits with positive gain, best gain: -inf\n",
      "[LightGBM] [Warning] No further splits with positive gain, best gain: -inf\n",
      "[LightGBM] [Warning] No further splits with positive gain, best gain: -inf\n",
      "[LightGBM] [Warning] No further splits with positive gain, best gain: -inf\n",
      "[LightGBM] [Warning] No further splits with positive gain, best gain: -inf\n",
      "[LightGBM] [Warning] No further splits with positive gain, best gain: -inf\n",
      "[LightGBM] [Warning] No further splits with positive gain, best gain: -inf\n",
      "[LightGBM] [Warning] No further splits with positive gain, best gain: -inf\n",
      "[LightGBM] [Warning] No further splits with positive gain, best gain: -inf\n",
      "[LightGBM] [Warning] No further splits with positive gain, best gain: -inf\n",
      "[LightGBM] [Warning] No further splits with positive gain, best gain: -inf\n",
      "[LightGBM] [Warning] No further splits with positive gain, best gain: -inf\n",
      "[LightGBM] [Warning] No further splits with positive gain, best gain: -inf\n",
      "[LightGBM] [Warning] No further splits with positive gain, best gain: -inf\n",
      "[LightGBM] [Warning] No further splits with positive gain, best gain: -inf\n",
      "[LightGBM] [Warning] No further splits with positive gain, best gain: -inf\n",
      "[LightGBM] [Warning] No further splits with positive gain, best gain: -inf\n",
      "[LightGBM] [Warning] No further splits with positive gain, best gain: -inf\n",
      "[LightGBM] [Warning] No further splits with positive gain, best gain: -inf\n",
      "[LightGBM] [Warning] No further splits with positive gain, best gain: -inf\n",
      "[LightGBM] [Warning] No further splits with positive gain, best gain: -inf\n",
      "[LightGBM] [Warning] No further splits with positive gain, best gain: -inf\n",
      "[LightGBM] [Warning] No further splits with positive gain, best gain: -inf\n",
      "[LightGBM] [Warning] No further splits with positive gain, best gain: -inf\n",
      "[LightGBM] [Warning] No further splits with positive gain, best gain: -inf\n",
      "[LightGBM] [Warning] No further splits with positive gain, best gain: -inf\n",
      "[LightGBM] [Warning] No further splits with positive gain, best gain: -inf\n",
      "[LightGBM] [Warning] No further splits with positive gain, best gain: -inf\n",
      "[LightGBM] [Warning] No further splits with positive gain, best gain: -inf\n",
      "[LightGBM] [Warning] No further splits with positive gain, best gain: -inf\n",
      "[LightGBM] [Warning] No further splits with positive gain, best gain: -inf\n",
      "[LightGBM] [Warning] No further splits with positive gain, best gain: -inf\n",
      "[LightGBM] [Warning] No further splits with positive gain, best gain: -inf\n",
      "[LightGBM] [Warning] No further splits with positive gain, best gain: -inf\n",
      "[LightGBM] [Warning] No further splits with positive gain, best gain: -inf\n",
      "[LightGBM] [Warning] No further splits with positive gain, best gain: -inf\n",
      "[LightGBM] [Warning] No further splits with positive gain, best gain: -inf\n",
      "[LightGBM] [Warning] No further splits with positive gain, best gain: -inf\n",
      "[LightGBM] [Warning] No further splits with positive gain, best gain: -inf\n",
      "[LightGBM] [Warning] No further splits with positive gain, best gain: -inf\n",
      "[LightGBM] [Warning] No further splits with positive gain, best gain: -inf\n",
      "[LightGBM] [Warning] No further splits with positive gain, best gain: -inf\n",
      "[LightGBM] [Warning] No further splits with positive gain, best gain: -inf\n",
      "[LightGBM] [Warning] No further splits with positive gain, best gain: -inf\n"
     ]
    },
    {
     "name": "stdout",
     "output_type": "stream",
     "text": [
      "[LightGBM] [Warning] No further splits with positive gain, best gain: -inf\n",
      "[LightGBM] [Warning] No further splits with positive gain, best gain: -inf\n",
      "[LightGBM] [Warning] No further splits with positive gain, best gain: -inf\n",
      "[LightGBM] [Warning] No further splits with positive gain, best gain: -inf\n",
      "[LightGBM] [Warning] No further splits with positive gain, best gain: -inf\n",
      "[LightGBM] [Warning] No further splits with positive gain, best gain: -inf\n",
      "[LightGBM] [Warning] No further splits with positive gain, best gain: -inf\n",
      "[LightGBM] [Warning] No further splits with positive gain, best gain: -inf\n",
      "[LightGBM] [Warning] No further splits with positive gain, best gain: -inf\n",
      "[LightGBM] [Warning] No further splits with positive gain, best gain: -inf\n",
      "[LightGBM] [Warning] No further splits with positive gain, best gain: -inf\n",
      "[LightGBM] [Warning] No further splits with positive gain, best gain: -inf\n",
      "[LightGBM] [Warning] No further splits with positive gain, best gain: -inf\n",
      "[LightGBM] [Warning] No further splits with positive gain, best gain: -inf\n",
      "[LightGBM] [Warning] No further splits with positive gain, best gain: -inf\n",
      "[LightGBM] [Warning] No further splits with positive gain, best gain: -inf\n",
      "[LightGBM] [Warning] No further splits with positive gain, best gain: -inf\n",
      "[LightGBM] [Warning] No further splits with positive gain, best gain: -inf\n",
      "[LightGBM] [Warning] No further splits with positive gain, best gain: -inf\n",
      "[LightGBM] [Warning] No further splits with positive gain, best gain: -inf\n",
      "[LightGBM] [Warning] No further splits with positive gain, best gain: -inf\n",
      "[LightGBM] [Warning] No further splits with positive gain, best gain: -inf\n",
      "[LightGBM] [Warning] No further splits with positive gain, best gain: -inf\n",
      "[LightGBM] [Warning] No further splits with positive gain, best gain: -inf\n",
      "[LightGBM] [Warning] No further splits with positive gain, best gain: -inf\n",
      "[LightGBM] [Warning] No further splits with positive gain, best gain: -inf\n",
      "[LightGBM] [Warning] No further splits with positive gain, best gain: -inf\n",
      "[LightGBM] [Warning] No further splits with positive gain, best gain: -inf\n",
      "[LightGBM] [Warning] No further splits with positive gain, best gain: -inf\n",
      "[LightGBM] [Warning] No further splits with positive gain, best gain: -inf\n",
      "[LightGBM] [Warning] No further splits with positive gain, best gain: -inf\n",
      "[LightGBM] [Warning] No further splits with positive gain, best gain: -inf\n",
      "[LightGBM] [Warning] No further splits with positive gain, best gain: -inf\n",
      "[LightGBM] [Warning] No further splits with positive gain, best gain: -inf\n",
      "[LightGBM] [Warning] No further splits with positive gain, best gain: -inf\n",
      "[LightGBM] [Warning] No further splits with positive gain, best gain: -inf\n",
      "[LightGBM] [Warning] No further splits with positive gain, best gain: -inf\n",
      "[LightGBM] [Warning] No further splits with positive gain, best gain: -inf\n",
      "[LightGBM] [Warning] No further splits with positive gain, best gain: -inf\n",
      "[LightGBM] [Warning] No further splits with positive gain, best gain: -inf\n",
      "[LightGBM] [Warning] No further splits with positive gain, best gain: -inf\n",
      "[LightGBM] [Warning] No further splits with positive gain, best gain: -inf\n",
      "[LightGBM] [Warning] No further splits with positive gain, best gain: -inf\n",
      "[LightGBM] [Warning] No further splits with positive gain, best gain: -inf\n",
      "[LightGBM] [Warning] No further splits with positive gain, best gain: -inf\n",
      "[LightGBM] [Warning] No further splits with positive gain, best gain: -inf\n",
      "[LightGBM] [Warning] No further splits with positive gain, best gain: -inf\n",
      "[LightGBM] [Warning] No further splits with positive gain, best gain: -inf\n",
      "[LightGBM] [Warning] No further splits with positive gain, best gain: -inf\n",
      "[LightGBM] [Warning] No further splits with positive gain, best gain: -inf\n",
      "[LightGBM] [Warning] No further splits with positive gain, best gain: -inf\n",
      "[LightGBM] [Warning] No further splits with positive gain, best gain: -inf\n",
      "[LightGBM] [Warning] No further splits with positive gain, best gain: -inf\n",
      "[LightGBM] [Warning] No further splits with positive gain, best gain: -inf\n",
      "[LightGBM] [Warning] No further splits with positive gain, best gain: -inf\n",
      "[LightGBM] [Warning] No further splits with positive gain, best gain: -inf\n",
      "[LightGBM] [Warning] No further splits with positive gain, best gain: -inf\n",
      "[LightGBM] [Warning] No further splits with positive gain, best gain: -inf\n",
      "[LightGBM] [Warning] No further splits with positive gain, best gain: -inf\n",
      "[LightGBM] [Warning] No further splits with positive gain, best gain: -inf\n",
      "[LightGBM] [Warning] No further splits with positive gain, best gain: -inf\n",
      "[LightGBM] [Warning] No further splits with positive gain, best gain: -inf\n",
      "[LightGBM] [Warning] No further splits with positive gain, best gain: -inf\n",
      "[LightGBM] [Warning] No further splits with positive gain, best gain: -inf\n",
      "[LightGBM] [Warning] No further splits with positive gain, best gain: -inf\n",
      "[LightGBM] [Warning] No further splits with positive gain, best gain: -inf\n",
      "[LightGBM] [Warning] No further splits with positive gain, best gain: -inf\n",
      "[LightGBM] [Warning] No further splits with positive gain, best gain: -inf\n",
      "[LightGBM] [Warning] No further splits with positive gain, best gain: -inf\n",
      "[LightGBM] [Warning] No further splits with positive gain, best gain: -inf\n",
      "[LightGBM] [Warning] No further splits with positive gain, best gain: -inf\n",
      "[LightGBM] [Warning] No further splits with positive gain, best gain: -inf\n",
      "[LightGBM] [Warning] No further splits with positive gain, best gain: -inf\n",
      "[LightGBM] [Warning] No further splits with positive gain, best gain: -inf\n",
      "[LightGBM] [Warning] No further splits with positive gain, best gain: -inf\n",
      "[LightGBM] [Warning] No further splits with positive gain, best gain: -inf\n",
      "[LightGBM] [Warning] No further splits with positive gain, best gain: -inf\n",
      "[LightGBM] [Warning] No further splits with positive gain, best gain: -inf\n",
      "[LightGBM] [Warning] No further splits with positive gain, best gain: -inf\n",
      "[LightGBM] [Warning] No further splits with positive gain, best gain: -inf\n",
      "[LightGBM] [Warning] No further splits with positive gain, best gain: -inf\n",
      "[LightGBM] [Warning] No further splits with positive gain, best gain: -inf\n",
      "[LightGBM] [Warning] No further splits with positive gain, best gain: -inf\n",
      "[LightGBM] [Warning] No further splits with positive gain, best gain: -inf\n",
      "[LightGBM] [Warning] No further splits with positive gain, best gain: -inf\n",
      "[LightGBM] [Warning] No further splits with positive gain, best gain: -inf\n",
      "[LightGBM] [Warning] No further splits with positive gain, best gain: -inf\n",
      "[LightGBM] [Warning] No further splits with positive gain, best gain: -inf\n",
      "[LightGBM] [Warning] No further splits with positive gain, best gain: -inf\n",
      "[LightGBM] [Warning] No further splits with positive gain, best gain: -inf\n",
      "[LightGBM] [Warning] No further splits with positive gain, best gain: -inf\n",
      "[LightGBM] [Warning] No further splits with positive gain, best gain: -inf\n"
     ]
    }
   ],
   "source": [
    "trains = lgb.Dataset(X_train_s, label = y_train_s)\n",
    "params = {\n",
    "    'boosting':'gbdt',\n",
    "    'objective':'multiclass',\n",
    "    'num_class':39,\n",
    "    'max_delta_step':0.9,\n",
    "    'min_data_in_leaf': 100, #was 300\n",
    "    'learning_rate': 0.2,\n",
    "    'max_bin': 480,\n",
    "    'feature_fraction':0.8,\n",
    "    'num_leaves': 50,\n",
    "    'bagging_fraction':0.8,\n",
    "    'bagging_freq':10,\n",
    "    'verbose' : 0\n",
    "}\n",
    "lgb_rs_s = lgb.train(params, trains, 140) # was 100"
   ]
  },
  {
   "cell_type": "code",
   "execution_count": 141,
   "id": "247f5ea8",
   "metadata": {},
   "outputs": [
    {
     "name": "stdout",
     "output_type": "stream",
     "text": [
      "2.103331762014353\n",
      "2.368949335955789\n"
     ]
    }
   ],
   "source": [
    "y_probs_train = lgb_rs_s.predict(X_train_s)\n",
    "y_probs_val = lgb_rs_s.predict(X_test_s)\n",
    "\n",
    "print(log_loss(y_train_s, y_probs_train))\n",
    "print(log_loss(y_test_s, y_probs_val))"
   ]
  },
  {
   "cell_type": "code",
   "execution_count": 142,
   "id": "34ceaf2f",
   "metadata": {},
   "outputs": [
    {
     "data": {
      "image/png": "[encoded data removed]",
      "text/plain": [
       "<Figure size 720x432 with 1 Axes>"
      ]
     },
     "metadata": {
      "needs_background": "light"
     },
     "output_type": "display_data"
    }
   ],
   "source": [
    "fig, ax = plt.subplots(figsize=(10,6))\n",
    "lgb.plot_importance(lgb_rs_s, ax=ax)\n",
    "plt.show()"
   ]
  },
  {
   "cell_type": "markdown",
   "id": "230ee719",
   "metadata": {},
   "source": [
    "### All features, native LGB"
   ]
  },
  {
   "cell_type": "code",
   "execution_count": 19,
   "id": "f8a84ed8",
   "metadata": {},
   "outputs": [],
   "source": [
    "labelvec = train_df['Category']\n",
    "LE = LabelEncoder()\n",
    "\n",
    "encodedlabels = LE.fit_transform(labelvec) "
   ]
  },
  {
   "cell_type": "code",
   "execution_count": 23,
   "id": "645333ac",
   "metadata": {},
   "outputs": [],
   "source": [
    "train_df_nolabel = train_df.drop('Category', axis=1)"
   ]
  },
  {
   "cell_type": "code",
   "execution_count": 31,
   "id": "c74f1667",
   "metadata": {
    "scrolled": true
   },
   "outputs": [
    {
     "name": "stdout",
     "output_type": "stream",
     "text": [
      "[LightGBM] [Warning] Auto-choosing row-wise multi-threading, the overhead of testing was 0.034237 seconds.\n",
      "You can set `force_row_wise=true` to remove the overhead.\n",
      "And if memory is not enough, you can set `force_col_wise=true`.\n",
      "[LightGBM] [Info] Total Bins 3047\n",
      "[LightGBM] [Info] Number of data points in the train set: 877982, number of used features: 15\n",
      "[LightGBM] [Info] Start training from score -6.363532\n",
      "[LightGBM] [Info] Start training from score -2.435484\n",
      "[LightGBM] [Info] Start training from score -7.679028\n",
      "[LightGBM] [Info] Start training from score -8.018955\n",
      "[LightGBM] [Info] Start training from score -3.173379\n",
      "[LightGBM] [Info] Start training from score -5.314834\n",
      "[LightGBM] [Info] Start training from score -5.958728\n",
      "[LightGBM] [Info] Start training from score -2.789179\n",
      "[LightGBM] [Info] Start training from score -5.323673\n",
      "[LightGBM] [Info] Start training from score -6.624047\n",
      "[LightGBM] [Info] Start training from score -8.140204\n",
      "[LightGBM] [Info] Start training from score -7.488937\n",
      "[LightGBM] [Info] Start training from score -4.415923\n",
      "[LightGBM] [Info] Start training from score -3.963476\n",
      "[LightGBM] [Info] Start training from score -8.701775\n",
      "[LightGBM] [Info] Start training from score -5.927048\n",
      "[LightGBM] [Info] Start training from score -1.613497\n",
      "[LightGBM] [Info] Start training from score -6.134195\n",
      "[LightGBM] [Info] Start training from score -6.574685\n",
      "[LightGBM] [Info] Start training from score -3.519953\n",
      "[LightGBM] [Info] Start training from score -2.252582\n",
      "[LightGBM] [Info] Start training from score -1.940036\n",
      "[LightGBM] [Info] Start training from score -10.594339\n",
      "[LightGBM] [Info] Start training from score -4.764859\n",
      "[LightGBM] [Info] Start training from score -5.634040\n",
      "[LightGBM] [Info] Start training from score -3.642175\n",
      "[LightGBM] [Info] Start training from score -6.111850\n",
      "[LightGBM] [Info] Start training from score -4.476542\n",
      "[LightGBM] [Info] Start training from score -5.298980\n",
      "[LightGBM] [Info] Start training from score -8.688169\n",
      "[LightGBM] [Info] Start training from score -5.264919\n",
      "[LightGBM] [Info] Start training from score -7.454900\n",
      "[LightGBM] [Info] Start training from score -3.330436\n",
      "[LightGBM] [Info] Start training from score -11.893622\n",
      "[LightGBM] [Info] Start training from score -4.786333\n",
      "[LightGBM] [Info] Start training from score -2.977116\n",
      "[LightGBM] [Info] Start training from score -2.792873\n",
      "[LightGBM] [Info] Start training from score -3.035064\n",
      "[LightGBM] [Info] Start training from score -4.631110\n",
      "[LightGBM] [Warning] No further splits with positive gain, best gain: -inf\n",
      "[LightGBM] [Warning] No further splits with positive gain, best gain: -inf\n",
      "[LightGBM] [Warning] No further splits with positive gain, best gain: -inf\n",
      "[LightGBM] [Warning] No further splits with positive gain, best gain: -inf\n",
      "[LightGBM] [Warning] No further splits with positive gain, best gain: -inf\n",
      "[LightGBM] [Warning] No further splits with positive gain, best gain: -inf\n",
      "[LightGBM] [Warning] No further splits with positive gain, best gain: -inf\n",
      "[LightGBM] [Warning] No further splits with positive gain, best gain: -inf\n",
      "[LightGBM] [Warning] No further splits with positive gain, best gain: -inf\n",
      "[LightGBM] [Warning] No further splits with positive gain, best gain: -inf\n",
      "[LightGBM] [Warning] No further splits with positive gain, best gain: -inf\n",
      "[LightGBM] [Warning] No further splits with positive gain, best gain: -inf\n",
      "[LightGBM] [Warning] No further splits with positive gain, best gain: -inf\n",
      "[LightGBM] [Warning] No further splits with positive gain, best gain: -inf\n",
      "[LightGBM] [Warning] No further splits with positive gain, best gain: -inf\n",
      "[LightGBM] [Warning] No further splits with positive gain, best gain: -inf\n",
      "[LightGBM] [Warning] No further splits with positive gain, best gain: -inf\n",
      "[LightGBM] [Warning] No further splits with positive gain, best gain: -inf\n",
      "[LightGBM] [Warning] No further splits with positive gain, best gain: -inf\n",
      "[LightGBM] [Warning] No further splits with positive gain, best gain: -inf\n",
      "[LightGBM] [Warning] No further splits with positive gain, best gain: -inf\n",
      "[LightGBM] [Warning] No further splits with positive gain, best gain: -inf\n",
      "[LightGBM] [Warning] No further splits with positive gain, best gain: -inf\n",
      "[LightGBM] [Warning] No further splits with positive gain, best gain: -inf\n",
      "[LightGBM] [Warning] No further splits with positive gain, best gain: -inf\n",
      "[LightGBM] [Warning] No further splits with positive gain, best gain: -inf\n",
      "[LightGBM] [Warning] No further splits with positive gain, best gain: -inf\n",
      "[LightGBM] [Warning] No further splits with positive gain, best gain: -inf\n",
      "[LightGBM] [Warning] No further splits with positive gain, best gain: -inf\n",
      "[LightGBM] [Warning] No further splits with positive gain, best gain: -inf\n",
      "[LightGBM] [Warning] No further splits with positive gain, best gain: -inf\n",
      "[LightGBM] [Warning] No further splits with positive gain, best gain: -inf\n",
      "[LightGBM] [Warning] No further splits with positive gain, best gain: -inf\n",
      "[LightGBM] [Warning] No further splits with positive gain, best gain: -inf\n",
      "[LightGBM] [Warning] No further splits with positive gain, best gain: -inf\n",
      "[LightGBM] [Warning] No further splits with positive gain, best gain: -inf\n",
      "[LightGBM] [Warning] No further splits with positive gain, best gain: -inf\n",
      "[LightGBM] [Warning] No further splits with positive gain, best gain: -inf\n",
      "[LightGBM] [Warning] No further splits with positive gain, best gain: -inf\n",
      "[LightGBM] [Warning] No further splits with positive gain, best gain: -inf\n",
      "[LightGBM] [Warning] No further splits with positive gain, best gain: -inf\n",
      "[LightGBM] [Warning] No further splits with positive gain, best gain: -inf\n",
      "[LightGBM] [Warning] No further splits with positive gain, best gain: -inf\n",
      "[LightGBM] [Warning] No further splits with positive gain, best gain: -inf\n",
      "[LightGBM] [Warning] No further splits with positive gain, best gain: -inf\n",
      "[LightGBM] [Warning] No further splits with positive gain, best gain: -inf\n",
      "[LightGBM] [Warning] No further splits with positive gain, best gain: -inf\n",
      "[LightGBM] [Warning] No further splits with positive gain, best gain: -inf\n",
      "[LightGBM] [Warning] No further splits with positive gain, best gain: -inf\n",
      "[LightGBM] [Warning] No further splits with positive gain, best gain: -inf\n",
      "[LightGBM] [Warning] No further splits with positive gain, best gain: -inf\n",
      "[LightGBM] [Warning] No further splits with positive gain, best gain: -inf\n",
      "[LightGBM] [Warning] No further splits with positive gain, best gain: -inf\n",
      "[LightGBM] [Warning] No further splits with positive gain, best gain: -inf\n",
      "[LightGBM] [Warning] No further splits with positive gain, best gain: -inf\n",
      "[LightGBM] [Warning] No further splits with positive gain, best gain: -inf\n",
      "[LightGBM] [Warning] No further splits with positive gain, best gain: -inf\n",
      "[LightGBM] [Warning] No further splits with positive gain, best gain: -inf\n",
      "[LightGBM] [Warning] No further splits with positive gain, best gain: -inf\n",
      "[LightGBM] [Warning] No further splits with positive gain, best gain: -inf\n",
      "[LightGBM] [Warning] No further splits with positive gain, best gain: -inf\n",
      "[LightGBM] [Warning] No further splits with positive gain, best gain: -inf\n",
      "[LightGBM] [Warning] No further splits with positive gain, best gain: -inf\n",
      "[LightGBM] [Warning] No further splits with positive gain, best gain: -inf\n",
      "[LightGBM] [Warning] No further splits with positive gain, best gain: -inf\n",
      "[LightGBM] [Warning] No further splits with positive gain, best gain: -inf\n",
      "[LightGBM] [Warning] No further splits with positive gain, best gain: -inf\n",
      "[LightGBM] [Warning] No further splits with positive gain, best gain: -inf\n",
      "[LightGBM] [Warning] No further splits with positive gain, best gain: -inf\n",
      "[LightGBM] [Warning] No further splits with positive gain, best gain: -inf\n",
      "[LightGBM] [Warning] No further splits with positive gain, best gain: -inf\n",
      "[LightGBM] [Warning] No further splits with positive gain, best gain: -inf\n",
      "[LightGBM] [Warning] No further splits with positive gain, best gain: -inf\n",
      "[LightGBM] [Warning] No further splits with positive gain, best gain: -inf\n",
      "[LightGBM] [Warning] No further splits with positive gain, best gain: -inf\n",
      "[LightGBM] [Warning] No further splits with positive gain, best gain: -inf\n",
      "[LightGBM] [Warning] No further splits with positive gain, best gain: -inf\n"
     ]
    },
    {
     "name": "stdout",
     "output_type": "stream",
     "text": [
      "[LightGBM] [Warning] No further splits with positive gain, best gain: -inf\n",
      "[LightGBM] [Warning] No further splits with positive gain, best gain: -inf\n",
      "[LightGBM] [Warning] No further splits with positive gain, best gain: -inf\n",
      "[LightGBM] [Warning] No further splits with positive gain, best gain: -inf\n",
      "[LightGBM] [Warning] No further splits with positive gain, best gain: -inf\n",
      "[LightGBM] [Warning] No further splits with positive gain, best gain: -inf\n",
      "[LightGBM] [Warning] No further splits with positive gain, best gain: -inf\n",
      "[LightGBM] [Warning] No further splits with positive gain, best gain: -inf\n",
      "[LightGBM] [Warning] No further splits with positive gain, best gain: -inf\n",
      "[LightGBM] [Warning] No further splits with positive gain, best gain: -inf\n",
      "[LightGBM] [Warning] No further splits with positive gain, best gain: -inf\n",
      "[LightGBM] [Warning] No further splits with positive gain, best gain: -inf\n",
      "[LightGBM] [Warning] No further splits with positive gain, best gain: -inf\n",
      "[LightGBM] [Warning] No further splits with positive gain, best gain: -inf\n",
      "[LightGBM] [Warning] No further splits with positive gain, best gain: -inf\n",
      "[LightGBM] [Warning] No further splits with positive gain, best gain: -inf\n",
      "[LightGBM] [Warning] No further splits with positive gain, best gain: -inf\n",
      "[LightGBM] [Warning] No further splits with positive gain, best gain: -inf\n",
      "[LightGBM] [Warning] No further splits with positive gain, best gain: -inf\n",
      "[LightGBM] [Warning] No further splits with positive gain, best gain: -inf\n",
      "[LightGBM] [Warning] No further splits with positive gain, best gain: -inf\n",
      "[LightGBM] [Warning] No further splits with positive gain, best gain: -inf\n",
      "[LightGBM] [Warning] No further splits with positive gain, best gain: -inf\n",
      "[LightGBM] [Warning] No further splits with positive gain, best gain: -inf\n",
      "[LightGBM] [Warning] No further splits with positive gain, best gain: -inf\n",
      "[LightGBM] [Warning] No further splits with positive gain, best gain: -inf\n",
      "[LightGBM] [Warning] No further splits with positive gain, best gain: -inf\n",
      "[LightGBM] [Warning] No further splits with positive gain, best gain: -inf\n",
      "[LightGBM] [Warning] No further splits with positive gain, best gain: -inf\n",
      "[LightGBM] [Warning] No further splits with positive gain, best gain: -inf\n",
      "[LightGBM] [Warning] No further splits with positive gain, best gain: -inf\n",
      "[LightGBM] [Warning] No further splits with positive gain, best gain: -inf\n",
      "[LightGBM] [Warning] No further splits with positive gain, best gain: -inf\n",
      "[LightGBM] [Warning] No further splits with positive gain, best gain: -inf\n",
      "[LightGBM] [Warning] No further splits with positive gain, best gain: -inf\n",
      "[LightGBM] [Warning] No further splits with positive gain, best gain: -inf\n",
      "[LightGBM] [Warning] No further splits with positive gain, best gain: -inf\n",
      "[LightGBM] [Warning] No further splits with positive gain, best gain: -inf\n",
      "[LightGBM] [Warning] No further splits with positive gain, best gain: -inf\n",
      "[LightGBM] [Warning] No further splits with positive gain, best gain: -inf\n",
      "[LightGBM] [Warning] No further splits with positive gain, best gain: -inf\n",
      "[LightGBM] [Warning] No further splits with positive gain, best gain: -inf\n",
      "[LightGBM] [Warning] No further splits with positive gain, best gain: -inf\n",
      "[LightGBM] [Warning] No further splits with positive gain, best gain: -inf\n",
      "[LightGBM] [Warning] No further splits with positive gain, best gain: -inf\n",
      "[LightGBM] [Warning] No further splits with positive gain, best gain: -inf\n",
      "[LightGBM] [Warning] No further splits with positive gain, best gain: -inf\n",
      "[LightGBM] [Warning] No further splits with positive gain, best gain: -inf\n",
      "[LightGBM] [Warning] No further splits with positive gain, best gain: -inf\n",
      "[LightGBM] [Warning] No further splits with positive gain, best gain: -inf\n",
      "[LightGBM] [Warning] No further splits with positive gain, best gain: -inf\n",
      "[LightGBM] [Warning] No further splits with positive gain, best gain: -inf\n",
      "[LightGBM] [Warning] No further splits with positive gain, best gain: -inf\n",
      "[LightGBM] [Warning] No further splits with positive gain, best gain: -inf\n",
      "[LightGBM] [Warning] No further splits with positive gain, best gain: -inf\n",
      "[LightGBM] [Warning] No further splits with positive gain, best gain: -inf\n",
      "[LightGBM] [Warning] No further splits with positive gain, best gain: -inf\n",
      "[LightGBM] [Warning] No further splits with positive gain, best gain: -inf\n",
      "[LightGBM] [Warning] No further splits with positive gain, best gain: -inf\n",
      "[LightGBM] [Warning] No further splits with positive gain, best gain: -inf\n",
      "[LightGBM] [Warning] No further splits with positive gain, best gain: -inf\n",
      "[LightGBM] [Warning] No further splits with positive gain, best gain: -inf\n",
      "[LightGBM] [Warning] No further splits with positive gain, best gain: -inf\n",
      "[LightGBM] [Warning] No further splits with positive gain, best gain: -inf\n",
      "[LightGBM] [Warning] No further splits with positive gain, best gain: -inf\n",
      "[LightGBM] [Warning] No further splits with positive gain, best gain: -inf\n",
      "[LightGBM] [Warning] No further splits with positive gain, best gain: -inf\n",
      "[LightGBM] [Warning] No further splits with positive gain, best gain: -inf\n",
      "[LightGBM] [Warning] No further splits with positive gain, best gain: -inf\n",
      "[LightGBM] [Warning] No further splits with positive gain, best gain: -inf\n",
      "[LightGBM] [Warning] No further splits with positive gain, best gain: -inf\n",
      "[LightGBM] [Warning] No further splits with positive gain, best gain: -inf\n",
      "[LightGBM] [Warning] No further splits with positive gain, best gain: -inf\n",
      "[LightGBM] [Warning] No further splits with positive gain, best gain: -inf\n",
      "[LightGBM] [Warning] No further splits with positive gain, best gain: -inf\n",
      "[LightGBM] [Warning] No further splits with positive gain, best gain: -inf\n",
      "[LightGBM] [Warning] No further splits with positive gain, best gain: -inf\n",
      "[LightGBM] [Warning] No further splits with positive gain, best gain: -inf\n",
      "[LightGBM] [Warning] No further splits with positive gain, best gain: -inf\n",
      "[LightGBM] [Warning] No further splits with positive gain, best gain: -inf\n",
      "[LightGBM] [Warning] No further splits with positive gain, best gain: -inf\n",
      "[LightGBM] [Warning] No further splits with positive gain, best gain: -inf\n",
      "[LightGBM] [Warning] No further splits with positive gain, best gain: -inf\n",
      "[LightGBM] [Warning] No further splits with positive gain, best gain: -inf\n",
      "[LightGBM] [Warning] No further splits with positive gain, best gain: -inf\n",
      "[LightGBM] [Warning] No further splits with positive gain, best gain: -inf\n",
      "[LightGBM] [Warning] No further splits with positive gain, best gain: -inf\n",
      "[LightGBM] [Warning] No further splits with positive gain, best gain: -inf\n",
      "[LightGBM] [Warning] No further splits with positive gain, best gain: -inf\n",
      "[LightGBM] [Warning] No further splits with positive gain, best gain: -inf\n",
      "[LightGBM] [Warning] No further splits with positive gain, best gain: -inf\n",
      "[LightGBM] [Warning] No further splits with positive gain, best gain: -inf\n",
      "[LightGBM] [Warning] No further splits with positive gain, best gain: -inf\n",
      "[LightGBM] [Warning] No further splits with positive gain, best gain: -inf\n",
      "[LightGBM] [Warning] No further splits with positive gain, best gain: -inf\n",
      "[LightGBM] [Warning] No further splits with positive gain, best gain: -inf\n",
      "[LightGBM] [Warning] No further splits with positive gain, best gain: -inf\n",
      "[LightGBM] [Warning] No further splits with positive gain, best gain: -inf\n",
      "[LightGBM] [Warning] No further splits with positive gain, best gain: -inf\n",
      "[LightGBM] [Warning] No further splits with positive gain, best gain: -inf\n",
      "[LightGBM] [Warning] No further splits with positive gain, best gain: -inf\n"
     ]
    }
   ],
   "source": [
    "trains = lg.Dataset(train_df_nolabel, label = encodedlabels, categorical_feature=['PdDistrict', 'Roadtype','Block'])\n",
    "params = {\n",
    "    'boosting':'gbdt',\n",
    "    'objective':'multiclass',\n",
    "    'num_class':39,\n",
    "    'max_delta_step':0.9,\n",
    "    'min_data_in_leaf': 20,\n",
    "    'learning_rate': 0.4,\n",
    "    'max_bin': 480,\n",
    "    'num_leaves': 45,\n",
    "    'verbose' : 0\n",
    "}\n",
    "bst = lg.train(params, trains, 120)"
   ]
  },
  {
   "cell_type": "code",
   "execution_count": 63,
   "id": "43849544",
   "metadata": {},
   "outputs": [
    {
     "data": {
      "text/plain": [
       "<Figure size 1080x720 with 0 Axes>"
      ]
     },
     "metadata": {},
     "output_type": "display_data"
    },
    {
     "data": {
      "image/png": "[encoded data removed]",
      "text/plain": [
       "<Figure size 432x288 with 1 Axes>"
      ]
     },
     "metadata": {
      "needs_background": "light"
     },
     "output_type": "display_data"
    }
   ],
   "source": [
    "plt.figure(figsize=(15,10))\n",
    "lg.plot_importance(bst);"
   ]
  },
  {
   "cell_type": "markdown",
   "id": "f45d1e90",
   "metadata": {},
   "source": [
    "### Try smaller bins, with native LightGBM to test speed"
   ]
  },
  {
   "cell_type": "code",
   "execution_count": 44,
   "id": "8a07114b",
   "metadata": {},
   "outputs": [],
   "source": [
    "train_data = lg.Dataset(X_train, label = y_train)\n",
    "validation_data = lg.Dataset(X_test, label = y_test, reference=train_data)"
   ]
  },
  {
   "cell_type": "code",
   "execution_count": 45,
   "id": "a51c4829",
   "metadata": {},
   "outputs": [],
   "source": [
    "params = {\n",
    "    'boosting':'gbdt',\n",
    "    'objective':'multiclass',\n",
    "    'num_class':39,\n",
    "    'max_delta_step':0.9,\n",
    "    'min_data_in_leaf': 20,\n",
    "    'learning_rate': 0.4,\n",
    "    'max_bin': 48,\n",
    "    'num_leaves': 45,\n",
    "    'verbose' : 1\n",
    "}"
   ]
  },
  {
   "cell_type": "code",
   "execution_count": 46,
   "id": "dbb64e83",
   "metadata": {
    "scrolled": true
   },
   "outputs": [
    {
     "name": "stdout",
     "output_type": "stream",
     "text": [
      "[LightGBM] [Warning] Auto-choosing col-wise multi-threading, the overhead of testing was 0.035264 seconds.\n",
      "You can set `force_col_wise=true` to remove the overhead.\n",
      "[LightGBM] [Info] Total Bins 425\n",
      "[LightGBM] [Info] Number of data points in the train set: 614587, number of used features: 12\n",
      "[LightGBM] [Info] Start training from score -6.357976\n",
      "[LightGBM] [Info] Start training from score -2.432782\n",
      "[LightGBM] [Info] Start training from score -7.634974\n",
      "[LightGBM] [Info] Start training from score -8.010586\n",
      "[LightGBM] [Info] Start training from score -3.176212\n",
      "[LightGBM] [Info] Start training from score -5.297971\n",
      "[LightGBM] [Info] Start training from score -5.966061\n",
      "[LightGBM] [Info] Start training from score -2.788880\n",
      "[LightGBM] [Info] Start training from score -5.327686\n",
      "[LightGBM] [Info] Start training from score -6.619401\n",
      "[LightGBM] [Info] Start training from score -8.141320\n",
      "[LightGBM] [Info] Start training from score -7.520563\n",
      "[LightGBM] [Info] Start training from score -4.416771\n",
      "[LightGBM] [Info] Start training from score -3.961020\n",
      "[LightGBM] [Info] Start training from score -8.684315\n",
      "[LightGBM] [Info] Start training from score -5.921995\n",
      "[LightGBM] [Info] Start training from score -1.612309\n",
      "[LightGBM] [Info] Start training from score -6.143319\n",
      "[LightGBM] [Info] Start training from score -6.588186\n",
      "[LightGBM] [Info] Start training from score -3.521069\n",
      "[LightGBM] [Info] Start training from score -2.251622\n",
      "[LightGBM] [Info] Start training from score -1.940346\n",
      "[LightGBM] [Info] Start training from score -10.556117\n",
      "[LightGBM] [Info] Start training from score -4.773446\n",
      "[LightGBM] [Info] Start training from score -5.655018\n",
      "[LightGBM] [Info] Start training from score -3.650489\n",
      "[LightGBM] [Info] Start training from score -6.093807\n",
      "[LightGBM] [Info] Start training from score -4.483793\n",
      "[LightGBM] [Info] Start training from score -5.291163\n",
      "[LightGBM] [Info] Start training from score -8.665267\n",
      "[LightGBM] [Info] Start training from score -5.265013\n",
      "[LightGBM] [Info] Start training from score -7.396461\n",
      "[LightGBM] [Info] Start training from score -3.333505\n",
      "[LightGBM] [Info] Start training from score -11.942411\n",
      "[LightGBM] [Info] Start training from score -4.789360\n",
      "[LightGBM] [Info] Start training from score -2.973219\n",
      "[LightGBM] [Info] Start training from score -2.795916\n",
      "[LightGBM] [Info] Start training from score -3.036594\n",
      "[LightGBM] [Info] Start training from score -4.626528\n",
      "[1]\tvalid_0's multi_logloss: 2.5614\n",
      "Training until validation scores don't improve for 5 rounds\n",
      "[2]\tvalid_0's multi_logloss: 2.49064\n",
      "[3]\tvalid_0's multi_logloss: 2.44604\n",
      "[4]\tvalid_0's multi_logloss: 2.41846\n",
      "[LightGBM] [Warning] No further splits with positive gain, best gain: -inf\n",
      "[5]\tvalid_0's multi_logloss: 2.39685\n",
      "[LightGBM] [Warning] No further splits with positive gain, best gain: -inf\n",
      "[6]\tvalid_0's multi_logloss: 2.38104\n",
      "[7]\tvalid_0's multi_logloss: 2.3685\n",
      "[8]\tvalid_0's multi_logloss: 2.35947\n",
      "[LightGBM] [Warning] No further splits with positive gain, best gain: -inf\n",
      "[9]\tvalid_0's multi_logloss: 2.35054\n",
      "[LightGBM] [Warning] No further splits with positive gain, best gain: -inf\n",
      "[10]\tvalid_0's multi_logloss: 2.34452\n",
      "[LightGBM] [Warning] No further splits with positive gain, best gain: -inf\n",
      "[11]\tvalid_0's multi_logloss: 2.33916\n",
      "[LightGBM] [Warning] No further splits with positive gain, best gain: -inf\n",
      "[12]\tvalid_0's multi_logloss: 2.33468\n",
      "[LightGBM] [Warning] No further splits with positive gain, best gain: -inf\n",
      "[13]\tvalid_0's multi_logloss: 2.33161\n",
      "[LightGBM] [Warning] No further splits with positive gain, best gain: -inf\n",
      "[14]\tvalid_0's multi_logloss: 2.32874\n",
      "[LightGBM] [Warning] No further splits with positive gain, best gain: -inf\n",
      "[LightGBM] [Warning] No further splits with positive gain, best gain: -inf\n",
      "[15]\tvalid_0's multi_logloss: 2.32645\n",
      "[LightGBM] [Warning] No further splits with positive gain, best gain: -inf\n",
      "[16]\tvalid_0's multi_logloss: 2.32434\n",
      "[LightGBM] [Warning] No further splits with positive gain, best gain: -inf\n",
      "[17]\tvalid_0's multi_logloss: 2.32273\n",
      "[LightGBM] [Warning] No further splits with positive gain, best gain: -inf\n",
      "[18]\tvalid_0's multi_logloss: 2.32179\n",
      "[LightGBM] [Warning] No further splits with positive gain, best gain: -inf\n",
      "[19]\tvalid_0's multi_logloss: 2.32028\n",
      "[LightGBM] [Warning] No further splits with positive gain, best gain: -inf\n",
      "[20]\tvalid_0's multi_logloss: 2.31892\n",
      "[LightGBM] [Warning] No further splits with positive gain, best gain: -inf\n",
      "[21]\tvalid_0's multi_logloss: 2.31814\n",
      "[LightGBM] [Warning] No further splits with positive gain, best gain: -inf\n",
      "[LightGBM] [Warning] No further splits with positive gain, best gain: -inf\n",
      "[22]\tvalid_0's multi_logloss: 2.31741\n",
      "[LightGBM] [Warning] No further splits with positive gain, best gain: -inf\n",
      "[23]\tvalid_0's multi_logloss: 2.3166\n",
      "[LightGBM] [Warning] No further splits with positive gain, best gain: -inf\n",
      "[24]\tvalid_0's multi_logloss: 2.3158\n",
      "[LightGBM] [Warning] No further splits with positive gain, best gain: -inf\n",
      "[25]\tvalid_0's multi_logloss: 2.31503\n",
      "[LightGBM] [Warning] No further splits with positive gain, best gain: -inf\n",
      "[26]\tvalid_0's multi_logloss: 2.31468\n",
      "[LightGBM] [Warning] No further splits with positive gain, best gain: -inf\n",
      "[27]\tvalid_0's multi_logloss: 2.3145\n",
      "[LightGBM] [Warning] No further splits with positive gain, best gain: -inf\n",
      "[28]\tvalid_0's multi_logloss: 2.31421\n",
      "[LightGBM] [Warning] No further splits with positive gain, best gain: -inf\n",
      "[29]\tvalid_0's multi_logloss: 2.31425\n",
      "[LightGBM] [Warning] No further splits with positive gain, best gain: -inf\n",
      "[30]\tvalid_0's multi_logloss: 2.31401\n",
      "[LightGBM] [Warning] No further splits with positive gain, best gain: -inf\n",
      "[31]\tvalid_0's multi_logloss: 2.31338\n",
      "[LightGBM] [Warning] No further splits with positive gain, best gain: -inf\n",
      "[32]\tvalid_0's multi_logloss: 2.3131\n",
      "[LightGBM] [Warning] No further splits with positive gain, best gain: -inf\n",
      "[33]\tvalid_0's multi_logloss: 2.31269\n",
      "[LightGBM] [Warning] No further splits with positive gain, best gain: -inf\n",
      "[34]\tvalid_0's multi_logloss: 2.31248\n",
      "[LightGBM] [Warning] No further splits with positive gain, best gain: -inf\n",
      "[35]\tvalid_0's multi_logloss: 2.31226\n",
      "[LightGBM] [Warning] No further splits with positive gain, best gain: -inf\n",
      "[36]\tvalid_0's multi_logloss: 2.31238\n",
      "[LightGBM] [Warning] No further splits with positive gain, best gain: -inf\n",
      "[37]\tvalid_0's multi_logloss: 2.31225\n",
      "[LightGBM] [Warning] No further splits with positive gain, best gain: -inf\n",
      "[38]\tvalid_0's multi_logloss: 2.31209\n",
      "[LightGBM] [Warning] No further splits with positive gain, best gain: -inf\n",
      "[39]\tvalid_0's multi_logloss: 2.3118\n",
      "[LightGBM] [Warning] No further splits with positive gain, best gain: -inf\n",
      "[40]\tvalid_0's multi_logloss: 2.31193\n",
      "[LightGBM] [Warning] No further splits with positive gain, best gain: -inf\n",
      "[41]\tvalid_0's multi_logloss: 2.31209\n",
      "[LightGBM] [Warning] No further splits with positive gain, best gain: -inf\n",
      "[LightGBM] [Warning] No further splits with positive gain, best gain: -inf\n",
      "[42]\tvalid_0's multi_logloss: 2.31205\n",
      "[LightGBM] [Warning] No further splits with positive gain, best gain: -inf\n",
      "[LightGBM] [Warning] No further splits with positive gain, best gain: -inf\n",
      "[43]\tvalid_0's multi_logloss: 2.31199\n",
      "[LightGBM] [Warning] No further splits with positive gain, best gain: -inf\n",
      "[LightGBM] [Warning] No further splits with positive gain, best gain: -inf\n",
      "[44]\tvalid_0's multi_logloss: 2.31195\n",
      "Early stopping, best iteration is:\n",
      "[39]\tvalid_0's multi_logloss: 2.3118\n"
     ]
    }
   ],
   "source": [
    "bst_small = lg.train(params, train_data, 120,\n",
    "                valid_sets=validation_data,\n",
    "                early_stopping_rounds=5)"
   ]
  },
  {
   "cell_type": "code",
   "execution_count": 47,
   "id": "2ea744d5",
   "metadata": {},
   "outputs": [],
   "source": [
    "y_pred_val = bst_small.predict(X_test, num_iteration=bst.best_iteration)\n",
    "y_pred_train = bst_small.predict(X_train, num_iteration=bst.best_iteration)"
   ]
  },
  {
   "cell_type": "code",
   "execution_count": 48,
   "id": "855b63cb",
   "metadata": {},
   "outputs": [
    {
     "name": "stdout",
     "output_type": "stream",
     "text": [
      "2.311797645138557\n",
      "2.164921972536047\n"
     ]
    }
   ],
   "source": [
    "print(log_loss(y_test, y_pred_val))\n",
    "print(log_loss(y_train, y_pred_train))"
   ]
  },
  {
   "cell_type": "markdown",
   "id": "6acc9fae",
   "metadata": {},
   "source": [
    "# Submit to  Kaggle"
   ]
  },
  {
   "cell_type": "code",
   "execution_count": 69,
   "id": "29fea3d2",
   "metadata": {},
   "outputs": [],
   "source": [
    "from zipfile import ZipFile"
   ]
  },
  {
   "cell_type": "code",
   "execution_count": 117,
   "id": "da6070b8",
   "metadata": {},
   "outputs": [],
   "source": [
    "test_df = pd.read_csv('test.csv', parse_dates = ['Dates'], low_memory=False)\n",
    "test_df.drop('Id', axis=1, inplace=True)\n",
    "\n",
    "test_df_cat, test_df = preprocess_df(test_df, is_train=False)"
   ]
  },
  {
   "cell_type": "code",
   "execution_count": 130,
   "id": "0549b926",
   "metadata": {},
   "outputs": [],
   "source": [
    "test_df.drop(columns=['PdDistrict', 'Block', 'Roadtype'], inplace=True)"
   ]
  },
  {
   "cell_type": "code",
   "execution_count": 131,
   "id": "7705e5ca",
   "metadata": {},
   "outputs": [],
   "source": [
    "test_df_cat.drop(columns=['PdDistrict', 'Block', 'Roadtype', 'Minute'], inplace=True)"
   ]
  },
  {
   "cell_type": "code",
   "execution_count": 132,
   "id": "8c224d1d",
   "metadata": {},
   "outputs": [],
   "source": [
    "# y_probs_test = rfc.predict_proba(test_df_cat)\n",
    "# y_probs_test = clf.predict_proba(test_df_cat)\n",
    "y_probs_test = logreg_s.predict_proba(test_df_cat)\n",
    "\n",
    "# y_probs_test = rfc_gs_best.predict_proba(test_df_cat)"
   ]
  },
  {
   "cell_type": "code",
   "execution_count": 133,
   "id": "de002eb5",
   "metadata": {},
   "outputs": [],
   "source": [
    "submission_columns = df2['Category'].cat.categories"
   ]
  },
  {
   "cell_type": "code",
   "execution_count": 134,
   "id": "b96940fb",
   "metadata": {},
   "outputs": [],
   "source": [
    "submission_csv = pd.DataFrame(y_probs_test, columns = submission_columns)"
   ]
  },
  {
   "cell_type": "code",
   "execution_count": 135,
   "id": "0d1d6673",
   "metadata": {},
   "outputs": [],
   "source": [
    "submission_csv.to_csv('submission.csv', index=True, index_label = 'Id')"
   ]
  },
  {
   "cell_type": "code",
   "execution_count": 72,
   "id": "7e14984d",
   "metadata": {},
   "outputs": [],
   "source": [
    "with ZipFile('submission.zip', 'w') as zipObj:\n",
    "    zipObj.write('submission.csv')"
   ]
  },
  {
   "cell_type": "markdown",
   "id": "a626a454",
   "metadata": {},
   "source": [
    "### Verify the format"
   ]
  },
  {
   "cell_type": "code",
   "execution_count": 108,
   "id": "0b3816f4",
   "metadata": {
    "collapsed": true
   },
   "outputs": [
    {
     "data": {
      "text/html": [
       "<div>\n",
       "<style scoped>\n",
       "    .dataframe tbody tr th:only-of-type {\n",
       "        vertical-align: middle;\n",
       "    }\n",
       "\n",
       "    .dataframe tbody tr th {\n",
       "        vertical-align: top;\n",
       "    }\n",
       "\n",
       "    .dataframe thead th {\n",
       "        text-align: right;\n",
       "    }\n",
       "</style>\n",
       "<table border=\"1\" class=\"dataframe\">\n",
       "  <thead>\n",
       "    <tr style=\"text-align: right;\">\n",
       "      <th></th>\n",
       "      <th>Id</th>\n",
       "      <th>ARSON</th>\n",
       "      <th>ASSAULT</th>\n",
       "      <th>BAD CHECKS</th>\n",
       "      <th>BRIBERY</th>\n",
       "      <th>BURGLARY</th>\n",
       "      <th>DISORDERLY CONDUCT</th>\n",
       "      <th>DRIVING UNDER THE INFLUENCE</th>\n",
       "      <th>DRUG/NARCOTIC</th>\n",
       "      <th>DRUNKENNESS</th>\n",
       "      <th>...</th>\n",
       "      <th>SEX OFFENSES NON FORCIBLE</th>\n",
       "      <th>STOLEN PROPERTY</th>\n",
       "      <th>SUICIDE</th>\n",
       "      <th>SUSPICIOUS OCC</th>\n",
       "      <th>TREA</th>\n",
       "      <th>TRESPASS</th>\n",
       "      <th>VANDALISM</th>\n",
       "      <th>VEHICLE THEFT</th>\n",
       "      <th>WARRANTS</th>\n",
       "      <th>WEAPON LAWS</th>\n",
       "    </tr>\n",
       "  </thead>\n",
       "  <tbody>\n",
       "    <tr>\n",
       "      <th>0</th>\n",
       "      <td>0</td>\n",
       "      <td>0</td>\n",
       "      <td>0</td>\n",
       "      <td>0</td>\n",
       "      <td>0</td>\n",
       "      <td>0</td>\n",
       "      <td>0</td>\n",
       "      <td>0</td>\n",
       "      <td>0</td>\n",
       "      <td>0</td>\n",
       "      <td>...</td>\n",
       "      <td>0</td>\n",
       "      <td>0</td>\n",
       "      <td>0</td>\n",
       "      <td>0</td>\n",
       "      <td>0</td>\n",
       "      <td>0</td>\n",
       "      <td>0</td>\n",
       "      <td>0</td>\n",
       "      <td>1</td>\n",
       "      <td>0</td>\n",
       "    </tr>\n",
       "    <tr>\n",
       "      <th>1</th>\n",
       "      <td>1</td>\n",
       "      <td>0</td>\n",
       "      <td>0</td>\n",
       "      <td>0</td>\n",
       "      <td>0</td>\n",
       "      <td>0</td>\n",
       "      <td>0</td>\n",
       "      <td>0</td>\n",
       "      <td>0</td>\n",
       "      <td>0</td>\n",
       "      <td>...</td>\n",
       "      <td>0</td>\n",
       "      <td>0</td>\n",
       "      <td>0</td>\n",
       "      <td>0</td>\n",
       "      <td>0</td>\n",
       "      <td>0</td>\n",
       "      <td>0</td>\n",
       "      <td>0</td>\n",
       "      <td>1</td>\n",
       "      <td>0</td>\n",
       "    </tr>\n",
       "    <tr>\n",
       "      <th>2</th>\n",
       "      <td>2</td>\n",
       "      <td>0</td>\n",
       "      <td>0</td>\n",
       "      <td>0</td>\n",
       "      <td>0</td>\n",
       "      <td>0</td>\n",
       "      <td>0</td>\n",
       "      <td>0</td>\n",
       "      <td>0</td>\n",
       "      <td>0</td>\n",
       "      <td>...</td>\n",
       "      <td>0</td>\n",
       "      <td>0</td>\n",
       "      <td>0</td>\n",
       "      <td>0</td>\n",
       "      <td>0</td>\n",
       "      <td>0</td>\n",
       "      <td>0</td>\n",
       "      <td>0</td>\n",
       "      <td>1</td>\n",
       "      <td>0</td>\n",
       "    </tr>\n",
       "    <tr>\n",
       "      <th>3</th>\n",
       "      <td>3</td>\n",
       "      <td>0</td>\n",
       "      <td>0</td>\n",
       "      <td>0</td>\n",
       "      <td>0</td>\n",
       "      <td>0</td>\n",
       "      <td>0</td>\n",
       "      <td>0</td>\n",
       "      <td>0</td>\n",
       "      <td>0</td>\n",
       "      <td>...</td>\n",
       "      <td>0</td>\n",
       "      <td>0</td>\n",
       "      <td>0</td>\n",
       "      <td>0</td>\n",
       "      <td>0</td>\n",
       "      <td>0</td>\n",
       "      <td>0</td>\n",
       "      <td>0</td>\n",
       "      <td>1</td>\n",
       "      <td>0</td>\n",
       "    </tr>\n",
       "    <tr>\n",
       "      <th>4</th>\n",
       "      <td>4</td>\n",
       "      <td>0</td>\n",
       "      <td>0</td>\n",
       "      <td>0</td>\n",
       "      <td>0</td>\n",
       "      <td>0</td>\n",
       "      <td>0</td>\n",
       "      <td>0</td>\n",
       "      <td>0</td>\n",
       "      <td>0</td>\n",
       "      <td>...</td>\n",
       "      <td>0</td>\n",
       "      <td>0</td>\n",
       "      <td>0</td>\n",
       "      <td>0</td>\n",
       "      <td>0</td>\n",
       "      <td>0</td>\n",
       "      <td>0</td>\n",
       "      <td>0</td>\n",
       "      <td>1</td>\n",
       "      <td>0</td>\n",
       "    </tr>\n",
       "  </tbody>\n",
       "</table>\n",
       "<p>5 rows × 40 columns</p>\n",
       "</div>"
      ],
      "text/plain": [
       "   Id  ARSON  ASSAULT  BAD CHECKS  BRIBERY  BURGLARY  DISORDERLY CONDUCT  \\\n",
       "0   0      0        0           0        0         0                   0   \n",
       "1   1      0        0           0        0         0                   0   \n",
       "2   2      0        0           0        0         0                   0   \n",
       "3   3      0        0           0        0         0                   0   \n",
       "4   4      0        0           0        0         0                   0   \n",
       "\n",
       "   DRIVING UNDER THE INFLUENCE  DRUG/NARCOTIC  DRUNKENNESS  ...  \\\n",
       "0                            0              0            0  ...   \n",
       "1                            0              0            0  ...   \n",
       "2                            0              0            0  ...   \n",
       "3                            0              0            0  ...   \n",
       "4                            0              0            0  ...   \n",
       "\n",
       "   SEX OFFENSES NON FORCIBLE  STOLEN PROPERTY  SUICIDE  SUSPICIOUS OCC  TREA  \\\n",
       "0                          0                0        0               0     0   \n",
       "1                          0                0        0               0     0   \n",
       "2                          0                0        0               0     0   \n",
       "3                          0                0        0               0     0   \n",
       "4                          0                0        0               0     0   \n",
       "\n",
       "   TRESPASS  VANDALISM  VEHICLE THEFT  WARRANTS  WEAPON LAWS  \n",
       "0         0          0              0         1            0  \n",
       "1         0          0              0         1            0  \n",
       "2         0          0              0         1            0  \n",
       "3         0          0              0         1            0  \n",
       "4         0          0              0         1            0  \n",
       "\n",
       "[5 rows x 40 columns]"
      ]
     },
     "execution_count": 108,
     "metadata": {},
     "output_type": "execute_result"
    }
   ],
   "source": [
    "sample_sub = pd.read_csv('sampleSubmission.csv', low_memory=False)\n",
    "\n",
    "sample_sub.head()"
   ]
  },
  {
   "cell_type": "code",
   "execution_count": 128,
   "id": "6b72dfad",
   "metadata": {},
   "outputs": [
    {
     "data": {
      "text/html": [
       "<div>\n",
       "<style scoped>\n",
       "    .dataframe tbody tr th:only-of-type {\n",
       "        vertical-align: middle;\n",
       "    }\n",
       "\n",
       "    .dataframe tbody tr th {\n",
       "        vertical-align: top;\n",
       "    }\n",
       "\n",
       "    .dataframe thead th {\n",
       "        text-align: right;\n",
       "    }\n",
       "</style>\n",
       "<table border=\"1\" class=\"dataframe\">\n",
       "  <thead>\n",
       "    <tr style=\"text-align: right;\">\n",
       "      <th></th>\n",
       "      <th>Id</th>\n",
       "      <th>ARSON</th>\n",
       "      <th>ASSAULT</th>\n",
       "      <th>BAD CHECKS</th>\n",
       "      <th>BRIBERY</th>\n",
       "      <th>BURGLARY</th>\n",
       "      <th>DISORDERLY CONDUCT</th>\n",
       "      <th>DRIVING UNDER THE INFLUENCE</th>\n",
       "      <th>DRUG/NARCOTIC</th>\n",
       "      <th>DRUNKENNESS</th>\n",
       "      <th>...</th>\n",
       "      <th>SEX OFFENSES NON FORCIBLE</th>\n",
       "      <th>STOLEN PROPERTY</th>\n",
       "      <th>SUICIDE</th>\n",
       "      <th>SUSPICIOUS OCC</th>\n",
       "      <th>TREA</th>\n",
       "      <th>TRESPASS</th>\n",
       "      <th>VANDALISM</th>\n",
       "      <th>VEHICLE THEFT</th>\n",
       "      <th>WARRANTS</th>\n",
       "      <th>WEAPON LAWS</th>\n",
       "    </tr>\n",
       "  </thead>\n",
       "  <tbody>\n",
       "    <tr>\n",
       "      <th>0</th>\n",
       "      <td>0</td>\n",
       "      <td>0.006202</td>\n",
       "      <td>0.139089</td>\n",
       "      <td>0.000009</td>\n",
       "      <td>0.002154</td>\n",
       "      <td>0.029397</td>\n",
       "      <td>0.001752</td>\n",
       "      <td>0.004555</td>\n",
       "      <td>0.031074</td>\n",
       "      <td>0.007110</td>\n",
       "      <td>...</td>\n",
       "      <td>0.000064</td>\n",
       "      <td>0.008401</td>\n",
       "      <td>0.001588</td>\n",
       "      <td>0.049014</td>\n",
       "      <td>7.652322e-07</td>\n",
       "      <td>0.007094</td>\n",
       "      <td>0.059505</td>\n",
       "      <td>0.025866</td>\n",
       "      <td>0.038182</td>\n",
       "      <td>0.066168</td>\n",
       "    </tr>\n",
       "    <tr>\n",
       "      <th>1</th>\n",
       "      <td>1</td>\n",
       "      <td>0.002999</td>\n",
       "      <td>0.087832</td>\n",
       "      <td>0.000004</td>\n",
       "      <td>0.001332</td>\n",
       "      <td>0.001003</td>\n",
       "      <td>0.001614</td>\n",
       "      <td>0.016770</td>\n",
       "      <td>0.041762</td>\n",
       "      <td>0.007801</td>\n",
       "      <td>...</td>\n",
       "      <td>0.000058</td>\n",
       "      <td>0.007024</td>\n",
       "      <td>0.000388</td>\n",
       "      <td>0.029037</td>\n",
       "      <td>7.425107e-07</td>\n",
       "      <td>0.000821</td>\n",
       "      <td>0.050366</td>\n",
       "      <td>0.050242</td>\n",
       "      <td>0.044399</td>\n",
       "      <td>0.061446</td>\n",
       "    </tr>\n",
       "    <tr>\n",
       "      <th>2</th>\n",
       "      <td>2</td>\n",
       "      <td>0.003393</td>\n",
       "      <td>0.132351</td>\n",
       "      <td>0.000014</td>\n",
       "      <td>0.000957</td>\n",
       "      <td>0.027689</td>\n",
       "      <td>0.001579</td>\n",
       "      <td>0.003172</td>\n",
       "      <td>0.063280</td>\n",
       "      <td>0.008136</td>\n",
       "      <td>...</td>\n",
       "      <td>0.000045</td>\n",
       "      <td>0.008679</td>\n",
       "      <td>0.000582</td>\n",
       "      <td>0.045505</td>\n",
       "      <td>1.666010e-07</td>\n",
       "      <td>0.006635</td>\n",
       "      <td>0.055222</td>\n",
       "      <td>0.022119</td>\n",
       "      <td>0.052004</td>\n",
       "      <td>0.058501</td>\n",
       "    </tr>\n",
       "    <tr>\n",
       "      <th>3</th>\n",
       "      <td>3</td>\n",
       "      <td>0.003852</td>\n",
       "      <td>0.129892</td>\n",
       "      <td>0.000019</td>\n",
       "      <td>0.001322</td>\n",
       "      <td>0.035911</td>\n",
       "      <td>0.001369</td>\n",
       "      <td>0.003023</td>\n",
       "      <td>0.039866</td>\n",
       "      <td>0.007010</td>\n",
       "      <td>...</td>\n",
       "      <td>0.000069</td>\n",
       "      <td>0.008711</td>\n",
       "      <td>0.000706</td>\n",
       "      <td>0.047109</td>\n",
       "      <td>5.075563e-07</td>\n",
       "      <td>0.005811</td>\n",
       "      <td>0.067028</td>\n",
       "      <td>0.033115</td>\n",
       "      <td>0.040316</td>\n",
       "      <td>0.054055</td>\n",
       "    </tr>\n",
       "    <tr>\n",
       "      <th>4</th>\n",
       "      <td>4</td>\n",
       "      <td>0.003852</td>\n",
       "      <td>0.129892</td>\n",
       "      <td>0.000019</td>\n",
       "      <td>0.001322</td>\n",
       "      <td>0.035911</td>\n",
       "      <td>0.001369</td>\n",
       "      <td>0.003023</td>\n",
       "      <td>0.039866</td>\n",
       "      <td>0.007010</td>\n",
       "      <td>...</td>\n",
       "      <td>0.000069</td>\n",
       "      <td>0.008711</td>\n",
       "      <td>0.000706</td>\n",
       "      <td>0.047109</td>\n",
       "      <td>5.075563e-07</td>\n",
       "      <td>0.005811</td>\n",
       "      <td>0.067028</td>\n",
       "      <td>0.033115</td>\n",
       "      <td>0.040316</td>\n",
       "      <td>0.054055</td>\n",
       "    </tr>\n",
       "  </tbody>\n",
       "</table>\n",
       "<p>5 rows × 40 columns</p>\n",
       "</div>"
      ],
      "text/plain": [
       "   Id     ARSON   ASSAULT  BAD CHECKS   BRIBERY  BURGLARY  DISORDERLY CONDUCT  \\\n",
       "0   0  0.006202  0.139089    0.000009  0.002154  0.029397            0.001752   \n",
       "1   1  0.002999  0.087832    0.000004  0.001332  0.001003            0.001614   \n",
       "2   2  0.003393  0.132351    0.000014  0.000957  0.027689            0.001579   \n",
       "3   3  0.003852  0.129892    0.000019  0.001322  0.035911            0.001369   \n",
       "4   4  0.003852  0.129892    0.000019  0.001322  0.035911            0.001369   \n",
       "\n",
       "   DRIVING UNDER THE INFLUENCE  DRUG/NARCOTIC  DRUNKENNESS  ...  \\\n",
       "0                     0.004555       0.031074     0.007110  ...   \n",
       "1                     0.016770       0.041762     0.007801  ...   \n",
       "2                     0.003172       0.063280     0.008136  ...   \n",
       "3                     0.003023       0.039866     0.007010  ...   \n",
       "4                     0.003023       0.039866     0.007010  ...   \n",
       "\n",
       "   SEX OFFENSES NON FORCIBLE  STOLEN PROPERTY   SUICIDE  SUSPICIOUS OCC  \\\n",
       "0                   0.000064         0.008401  0.001588        0.049014   \n",
       "1                   0.000058         0.007024  0.000388        0.029037   \n",
       "2                   0.000045         0.008679  0.000582        0.045505   \n",
       "3                   0.000069         0.008711  0.000706        0.047109   \n",
       "4                   0.000069         0.008711  0.000706        0.047109   \n",
       "\n",
       "           TREA  TRESPASS  VANDALISM  VEHICLE THEFT  WARRANTS  WEAPON LAWS  \n",
       "0  7.652322e-07  0.007094   0.059505       0.025866  0.038182     0.066168  \n",
       "1  7.425107e-07  0.000821   0.050366       0.050242  0.044399     0.061446  \n",
       "2  1.666010e-07  0.006635   0.055222       0.022119  0.052004     0.058501  \n",
       "3  5.075563e-07  0.005811   0.067028       0.033115  0.040316     0.054055  \n",
       "4  5.075563e-07  0.005811   0.067028       0.033115  0.040316     0.054055  \n",
       "\n",
       "[5 rows x 40 columns]"
      ]
     },
     "execution_count": 128,
     "metadata": {},
     "output_type": "execute_result"
    }
   ],
   "source": [
    "# verify the format\n",
    "sample_sub_mine = pd.read_csv('submission.csv', low_memory=False)\n",
    "\n",
    "sample_sub_mine.head()"
   ]
  },
  {
   "cell_type": "code",
   "execution_count": null,
   "id": "ac9481be",
   "metadata": {},
   "outputs": [],
   "source": [
    "print(5)"
   ]
  },
  {
   "cell_type": "code",
   "execution_count": null,
   "id": "8f4fa345",
   "metadata": {},
   "outputs": [],
   "source": []
  }
 ],
 "metadata": {
  "kernelspec": {
   "display_name": "Python 3",
   "language": "python",
   "name": "python3"
  },
  "language_info": {
   "codemirror_mode": {
    "name": "ipython",
    "version": 3
   },
   "file_extension": ".py",
   "mimetype": "text/x-python",
   "name": "python",
   "nbconvert_exporter": "python",
   "pygments_lexer": "ipython3",
   "version": "3.9.6"
  }
 },
 "nbformat": 4,
 "nbformat_minor": 5
}
